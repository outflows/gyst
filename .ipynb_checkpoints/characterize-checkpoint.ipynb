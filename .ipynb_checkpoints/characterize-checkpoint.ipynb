{
 "cells": [
  {
   "cell_type": "markdown",
   "metadata": {},
   "source": [
    "## Initialization"
   ]
  },
  {
   "cell_type": "code",
   "execution_count": 1,
   "metadata": {},
   "outputs": [
    {
     "name": "stdout",
     "output_type": "stream",
     "text": [
      "Populating the interactive namespace from numpy and matplotlib\n"
     ]
    }
   ],
   "source": [
    "%pylab inline"
   ]
  },
  {
   "cell_type": "code",
   "execution_count": 2,
   "metadata": {},
   "outputs": [],
   "source": [
    "import numpy as np\n",
    "import matplotlib.pyplot as plt\n",
    "import sys\n",
    "import argparse\n",
    "from scipy import interpolate\n",
    "import tqdm\n",
    "import nmmn.lsd, nmmn.misc\n",
    "import os.path\n",
    "import pandas as pd"
   ]
  },
  {
   "cell_type": "code",
   "execution_count": 3,
   "metadata": {},
   "outputs": [
    {
     "data": {
      "image/png": "[encoded data removed]",
      "text/plain": [
       "<Figure size 432x288 with 1 Axes>"
      ]
     },
     "metadata": {
      "needs_background": "light"
     },
     "output_type": "display_data"
    }
   ],
   "source": [
    "mydata = [3.71764e-07,9.68898e-06,1.677e-05,6.09718e-06,8.24848e-06,1.002e-05,-1.21965e-05,-1.37798e-05,-1.72152e-05]\n",
    "mydata2 = [-2.29822e-06,-2.29822e-06,-2.29822e-06,-2.29822e-06,5.16789e-07,5.16789e-07,2.55997e-06,2.55997e-06,2.55997e-06]\n",
    "mydata3 = [7.30094e-05,5.27802e-05,6.60974e-05,8.59162e-05,9.75505e-05,9.26495e-05,4.61653e-05,2.37305e-05,-1.05941e-05,-1.66647e-05,-1.60529e-05,-1.51391e-05,-1.52665e-05,-1.4983e-05]\n",
    "mydata4 = [-0.000156,-0.000113,-0.000089,-0.000052,0.000000,0.000016,0.000030,0.000042,0.000038,0.000049]\n",
    "myJ4 = [0.000263,0.000261,0.000249,0.000233,0.000190,0.000176,0.000168,0.000162,0.000173,0.000158]\n",
    "\n",
    "\n",
    "mydata5 = [-0.000230,-0.000230,-0.000146,-0.000050,0.000052,0.000029,0.000080,0.000197]\n",
    "myJ5 = [0.001204,0.000980,0.000714,0.000802,0.000731,0.000638,0.000624,0.001322]\n",
    "\n",
    "plt.plot(mydata5, 'o', color = 'blue')\n",
    "#plt.plot(myJ5, 'o', color = 'red')\n",
    "plt.show()"
   ]
  },
  {
   "cell_type": "code",
   "execution_count": 4,
   "metadata": {},
   "outputs": [],
   "source": [
    "# Constants, definitions and units\n",
    "\n",
    "# many are related to grmonty, but we can set a black hole mass if we want to have a \"feeling\" for the physical values\n",
    "\n",
    "global MP, ME, CL, GNEWT, KBOL, SIGMA_THOMSON, MSUN, LSUN, YEAR, MBH\n",
    "global TPTE_DISK, TPTE_JET, THETAE_MAX\n",
    "global M_unit, L_unit, T_unit, RHO_unit, U_unit, B_unit, Ne_unit\n",
    "\n",
    "# all constants in cgs units\n",
    "ME = 9.1093826e-28 # electron mass\n",
    "MP = 1.67262171e-24 # proton mass\n",
    "CL = 2.99792458e10 # speed of light\n",
    "GNEWT = 6.6742e-8 # gravitational constant\n",
    "KBOL = 1.3806505e-16 # Boltzmann constant\n",
    "SIGMA_THOMSON = 0.665245873e-24 # Thomson cross-section\n",
    "MSUN = 1.989e33 # solar mass\n",
    "LSUN = 3.827e33 # solar luminosity\n",
    "YEAR = 31536000 # seconds in a year\n",
    "\n",
    "# temperature and beta-prescription (Mościbrodzka 2016)\n",
    "TPTE_DISK = 20. # R_high\n",
    "TPTE_JET = 1. # R_low\n",
    "THETAE_MAX = 1000.\n",
    "TP_OVER_TE = 100.0\n",
    "\n",
    "# grmonty units and BH mass\n",
    "MBH = 4.5e6 * MSUN # Sgr A*\n",
    "#MBH = 6.2e9 * MSUN # M87\n",
    "#MBH = 5.0e9 * MSUN\n",
    "#MBH = 10.0 * MSUN\n",
    "M_unit = 1.0e19\n",
    "#M_unit = 2.0*10e11\n",
    "L_unit = GNEWT * MBH / (CL * CL)\n",
    "T_unit = L_unit / CL\n",
    "RHO_unit = M_unit / (L_unit*L_unit*L_unit)\n",
    "U_unit = RHO_unit * CL * CL\n",
    "B_unit = CL * np.sqrt(4. * np.pi * RHO_unit)\n",
    "Ne_unit = RHO_unit / (MP + ME)"
   ]
  },
  {
   "cell_type": "markdown",
   "metadata": {},
   "source": [
    "## Read dump files"
   ]
  },
  {
   "cell_type": "code",
   "execution_count": 5,
   "metadata": {},
   "outputs": [
    {
     "name": "stderr",
     "output_type": "stream",
     "text": [
      "harm_script2.py:731: RuntimeWarning: invalid value encountered in sqrt\n",
      "  jcurr = np.sqrt(jsq)\n"
     ]
    },
    {
     "data": {
      "text/plain": [
       "<Figure size 432x288 with 0 Axes>"
      ]
     },
     "metadata": {},
     "output_type": "display_data"
    }
   ],
   "source": [
    "%run -i harm_script2.py\n",
    "#rg(\"gdump\")\n",
    "rd(\"dump400\")"
   ]
  },
  {
   "cell_type": "code",
   "execution_count": 6,
   "metadata": {},
   "outputs": [
    {
     "name": "stderr",
     "output_type": "stream",
     "text": [
      "harm_script2.py:6: RuntimeWarning: divide by zero encountered in true_divide\n",
      "  import argparse\n",
      "harm_script2.py:6: RuntimeWarning: overflow encountered in true_divide\n",
      "  import argparse\n"
     ]
    }
   ],
   "source": [
    "N1, N2, N3 = nx, ny, nz\n",
    "\n",
    "sigma = bsq/rho\n",
    "sigmaphi = bu[3]*bd[3]/(rho)\n",
    "\n",
    "betapl = 2.0*pg/bsq\n",
    "\n",
    "bphi = bu[3]*B_unit\n",
    "Bphi = B[3]*B_unit\n",
    "#jcurr = np.nan_to_num(jcurr)\n",
    "jdotu = mdot(ju,ud)\n",
    "Jsq = jsq + jdotu*jdotu\n",
    "gJsq = gdet*Jsq\n",
    "JJJ = sqrt(Jsq)\n",
    "\n",
    "EF = rho + gam*ug\n",
    "EE = bsq + EF\n",
    "va2 = bsq/EE\n",
    "va = np.sqrt(va2)"
   ]
  },
  {
   "cell_type": "code",
   "execution_count": 59,
   "metadata": {},
   "outputs": [],
   "source": [
    "Jfile = \"/home/gustavo/work/gyst/dump400_jcs\"\n",
    "Jfilepeak = \"/home/gustavo/work/gyst/dump400_jcs_peak\"\n",
    "Jfilechar = \"/home/gustavo/work/gyst/dump400_jcs_char\"\n",
    "\n",
    "f1 = open(Jfile, \"rb\")\n",
    "dtype = np.float64\n",
    "body = np.fromfile(f1,dtype=dtype,count=-1)\n",
    "JJ_cs = body.view().reshape((int(N1),int(N2),int(N3)), order='C')\n",
    "\n",
    "f2 = open(Jfilepeak, \"rb\")\n",
    "dtype = np.float64\n",
    "body = np.fromfile(f2,dtype=dtype,count=-1)\n",
    "JJ_cs_peak = body.view().reshape((int(N1),int(N2),int(N3)), order='C')\n",
    "\n",
    "f3 = open(Jfilechar, \"rb\")\n",
    "dtype = np.float64\n",
    "body = np.fromfile(f3,dtype=dtype,count=-1)\n",
    "JJ_cs_char = body.view().reshape((int(N1),int(N2),int(N3)), order='C')\n",
    "\n",
    "JJ_cs_char_ind = numpy.zeros(shape=(N1,N2,N3))\n",
    "for i in range(N1):\n",
    "    for j in range(N2):\n",
    "        for k in range(N3):\n",
    "            if JJ_cs_char[i][j][k] > 0:\n",
    "                JJ_cs_char_ind[i][j][k] = 1\n",
    "                \n",
    "#Jdata = np.loadtxt(Jfile)\n",
    "#JJ_cs = np.reshape(Jdata, (int(N1), int(N2), int(N3)))"
   ]
  },
  {
   "cell_type": "markdown",
   "metadata": {},
   "source": [
    "## Make a few test plots"
   ]
  },
  {
   "cell_type": "code",
   "execution_count": 72,
   "metadata": {},
   "outputs": [
    {
     "data": {
      "image/png": "[encoded data removed]",
      "text/plain": [
       "<Figure size 432x288 with 2 Axes>"
      ]
     },
     "metadata": {
      "needs_background": "light"
     },
     "output_type": "display_data"
    }
   ],
   "source": [
    "mirror = 1\n",
    "if(mirror):\n",
    "    xmax = 500\n",
    "    ymax = xmax/2\n",
    "    step = xmax/4\n",
    "else:\n",
    "    xmax = 125\n",
    "    ymax = 250\n",
    "    step = 25\n",
    "\n",
    "\n",
    "\n",
    "\n",
    "\n",
    "hfont = {'fontname':'Helvetica'}\n",
    "aphi=psicalc()\n",
    "amax = aphi.max()\n",
    "cs, cb = plco(np.log10(rho),levels = np.linspace(-8, 0, 100),isfilled=1,k=0,xy=1,xmax=xmax,ymax=ymax,dobh=1,cb=1,extend=\"both\",pretty=1)\n",
    "#cs, cb = plco(bu[3]*B_unit, levels = np.linspace(-0.1, 0.1, 100), isfilled=1, k=0, xy=1, xmax=80, ymax=40, dobh=1, cb=1, extend = \"both\", pretty=1, cmap = 'RdBu')\n",
    "#plt.contour(r2d, z2d, sigma2d, levels=[1], colors=('black'), linestyles=('-.'), linewidths=(2))\n",
    "ax = plt.gca()\n",
    "ax.set_xlabel(r\"$R\\ [r_g]$\",fontsize=20,labelpad=-5, **hfont)\n",
    "ax.set_ylabel(r\"$z\\ [r_g]$\",fontsize=20,labelpad=-5, **hfont)\n",
    "cb.ax.set_xlabel(r\"$\\log\\;\\rho$\",fontsize=20,ha=\"left\")\n",
    "cb.set_ticks([-8,-7,-6,-5,-4,-3,-2,-1,0])\n",
    "if(mirror):\n",
    "    plt.xticks(np.arange(0, xmax+1, step=step), **hfont) #GS\n",
    "    plt.yticks(np.arange(-ymax, ymax+1, step=step), **hfont) #GS\n",
    "    plt.xlim(0,xmax+1)\n",
    "    plt.ylim(-ymax,ymax+1)\n",
    "else:\n",
    "    plt.xticks(np.arange(0, xmax+1, step=step), **hfont) #GS\n",
    "    plt.yticks(np.arange(0, ymax+1, step=step), **hfont) #GS\n",
    "    plt.xlim(0,xmax+1)\n",
    "    plt.ylim(0,ymax+1)\n",
    "circle1 = plt.Circle((0, 0), Rin, color='black') # GS\n",
    "fig = plt.gcf() # GS\n",
    "ax2 = fig.gca() # GS\n",
    "ax2.add_artist(circle1) # GS\n",
    "plc(aphi,levels=np.linspace(-amax,amax,10)[1:-1],colors=\"black\",linewidths=0.5,xy=-1)\n",
    "plt.title(r\"$t=%.4g$\"%np.round(t)+r\"$\\;r_g/c$\", **hfont); \n",
    "plt.tight_layout() # GS\n",
    "plt.draw()\n",
    "#plt.savefig(\"rho000_2ds9.png\", dpi = 300)"
   ]
  },
  {
   "cell_type": "code",
   "execution_count": 78,
   "metadata": {},
   "outputs": [
    {
     "name": "stderr",
     "output_type": "stream",
     "text": [
      "harm_script2.py:917: UserWarning: Attempting to set identical bottom == top == 0 results in singular transformations; automatically expanding.\n",
      "  ax.set_ylim(-ymax,ymax)\n"
     ]
    },
    {
     "data": {
      "image/png": "[encoded data removed]",
      "text/plain": [
       "<Figure size 432x288 with 2 Axes>"
      ]
     },
     "metadata": {
      "needs_background": "light"
     },
     "output_type": "display_data"
    }
   ],
   "source": [
    "mirror = 0\n",
    "if(mirror):\n",
    "    xmax = 500\n",
    "    ymax = xmax/2\n",
    "    step = xmax/4\n",
    "else:\n",
    "    xmax = 100\n",
    "    ymax = 0\n",
    "    xmin = 0\n",
    "    ymin = -xmax\n",
    "    step = 25\n",
    "\n",
    "hfont = {'fontname':'Helvetica'}\n",
    "aphi=psicalc()\n",
    "amax = aphi.max()\n",
    "cs, cb = plco(np.log10(rho),levels = np.linspace(-8, 0, 100),isfilled=1,k=0,xy=1,xmax=xmax,ymax=ymax,dobh=1,cb=1,extend=\"both\",pretty=1)\n",
    "#cs, cb = plco(bu[3]*B_unit, levels = np.linspace(-0.1, 0.1, 100), isfilled=1, k=0, xy=1, xmax=80, ymax=40, dobh=1, cb=1, extend = \"both\", pretty=1, cmap = 'RdBu')\n",
    "#plt.contour(r2d, z2d, sigma2d, levels=[1], colors=('black'), linestyles=('-.'), linewidths=(2))\n",
    "ax = plt.gca()\n",
    "ax.set_xlabel(r\"$R\\ [r_g]$\",fontsize=20,labelpad=-5, **hfont)\n",
    "ax.set_ylabel(r\"$z\\ [r_g]$\",fontsize=20,labelpad=-5, **hfont)\n",
    "cb.ax.set_xlabel(r\"$\\log\\;\\rho$\",fontsize=20,ha=\"left\")\n",
    "cb.set_ticks([-8,-7,-6,-5,-4,-3,-2,-1,0])\n",
    "if(mirror):\n",
    "    plt.xticks(np.arange(0, xmax+1, step=step), **hfont) #GS\n",
    "    plt.yticks(np.arange(-ymax, ymax+1, step=step), **hfont) #GS\n",
    "    plt.xlim(0,xmax+1)\n",
    "    plt.ylim(-ymax,ymax+1)\n",
    "else:\n",
    "    plt.xticks(np.arange(0, xmax+1, step=step), **hfont) #GS\n",
    "    plt.yticks(np.arange(ymin, ymax+1, step=step), **hfont) #GS\n",
    "    plt.xlim(0,xmax+1)\n",
    "    plt.ylim(ymin,ymax+1)\n",
    "circle1 = plt.Circle((0, 0), Rin, color='black') # GS\n",
    "fig = plt.gcf() # GS\n",
    "ax2 = fig.gca() # GS\n",
    "ax2.add_artist(circle1) # GS\n",
    "plc(aphi,levels=np.linspace(-amax,amax,10)[1:-1],colors=\"black\",linewidths=0.5,xy=-1)\n",
    "plt.title(r\"$t=%.4g$\"%np.round(t)+r\"$\\;r_g/c$\", **hfont); \n",
    "plt.tight_layout() # GS\n",
    "plt.draw()\n",
    "#plt.savefig(\"rho000_2ds9.png\", dpi = 300)"
   ]
  },
  {
   "cell_type": "code",
   "execution_count": null,
   "metadata": {},
   "outputs": [],
   "source": [
    "xmax = 80\n",
    "ymax = xmax/2\n",
    "step = xmax/4\n",
    "\n",
    "hfont = {'fontname':'Helvetica'}\n",
    "aphi=psicalc()\n",
    "amax = aphi.max()\n",
    "cs, cb = plco(np.log10(sigmaphi),levels = np.linspace(-5, 2, 100),isfilled=1,k=0,xy=1,xmax=xmax,ymax=ymax,dobh=1,cb=1,extend=\"both\",pretty=1)\n",
    "#cs, cb = plco(bu[3]*B_unit, levels = np.linspace(-0.1, 0.1, 100), isfilled=1, k=0, xy=1, xmax=80, ymax=40, dobh=1, cb=1, extend = \"both\", pretty=1, cmap = 'RdBu')\n",
    "#plt.contour(r2d, z2d, sigma2d, levels=[1], colors=('black'), linestyles=('-.'), linewidths=(2))\n",
    "ax = plt.gca()\n",
    "ax.set_xlabel(r\"$R\\ [r_g]$\",fontsize=20,labelpad=-5, **hfont)\n",
    "ax.set_ylabel(r\"$z\\ [r_g]$\",fontsize=20,labelpad=-5, **hfont)\n",
    "cb.ax.set_xlabel(r\"$\\log\\;\\sigma_\\phi$\",fontsize=20,ha=\"left\")\n",
    "cb.set_ticks([-5,-4,-3,-2,-1,0,1,2])\n",
    "plt.xticks(np.arange(0, xmax+1, step=step), **hfont) #GS\n",
    "plt.yticks(np.arange(-ymax, ymax+1, step=step), **hfont) #GS\n",
    "circle1 = plt.Circle((0, 0), Rin, color='black') # GS\n",
    "fig = plt.gcf() # GS\n",
    "ax2 = fig.gca() # GS\n",
    "ax2.add_artist(circle1) # GS\n",
    "#plc(aphi,levels=np.linspace(-amax,amax,14)[1:-1],colors=\"black\",linewidths=1,xy=-1)\n",
    "plt.title(r\"$t=%.4g$\"%np.round(t)+r\"$\\;r_g/c$\", **hfont); \n",
    "plt.tight_layout() # GS\n",
    "plt.draw()\n",
    "#plt.savefig(\"sigma_test.png\", dpi = 300)"
   ]
  },
  {
   "cell_type": "code",
   "execution_count": null,
   "metadata": {},
   "outputs": [],
   "source": [
    "xmax = 80\n",
    "ymax = xmax/2\n",
    "step = xmax/4\n",
    "\n",
    "hfont = {'fontname':'Helvetica'}\n",
    "aphi=psicalc()\n",
    "amax = aphi.max()\n",
    "cs, cb = plco(np.log10(betapl), levels = np.linspace(-5, 5, 100), isfilled=1,k=0,xy=1,xmax=xmax,ymax=ymax,dobh=1,cb=1,extend=\"both\",pretty=1, cmap = 'RdBu')\n",
    "#cs, cb = plco(betapl,isfilled=1,k=0,xy=1,xmax=80,ymax=40,dobh=1,cb=1,extend=\"both\",pretty=1)\n",
    "#plt.contour(r2d, z2d, sigma2d, levels=[1], colors=('black'), linestyles=('-.'), linewidths=(2))\n",
    "ax = plt.gca()\n",
    "ax.set_xlabel(r\"$R\\ [r_g]$\",fontsize=20,labelpad=-5, **hfont)\n",
    "ax.set_ylabel(r\"$z\\ [r_g]$\",fontsize=20,labelpad=-5, **hfont)\n",
    "cb.ax.set_xlabel(r\"$\\log\\;\\beta$\",fontsize=20,ha=\"left\")\n",
    "cb.set_ticks([-5,-2.5,0,2.5,5])\n",
    "plt.xticks(np.arange(0, xmax+1, step=step), **hfont) #GS\n",
    "plt.yticks(np.arange(-ymax, ymax+1, step=step), **hfont) #GS\n",
    "circle1 = plt.Circle((0, 0), Rin, color='black') # GS\n",
    "fig = plt.gcf() # GS\n",
    "ax2 = fig.gca() # GS\n",
    "ax2.add_artist(circle1) # GS\n",
    "#plc(aphi,levels=np.linspace(-amax,amax,14)[1:-1],colors=\"black\",linewidths=1,xy=-1)\n",
    "plt.title(r\"$t=%.4g$\"%np.round(t)+r\"$\\;r_g/c$\", **hfont); \n",
    "plt.tight_layout() # GS\n",
    "plt.draw()\n",
    "#plt.savefig(\"rho000_2ds9.png\", dpi = 300)"
   ]
  },
  {
   "cell_type": "code",
   "execution_count": null,
   "metadata": {},
   "outputs": [],
   "source": [
    "xmax = 80\n",
    "ymax = xmax/2\n",
    "step = xmax/4\n",
    "\n",
    "hfont = {'fontname':'Helvetica'}\n",
    "aphi=psicalc()\n",
    "amax = aphi.max()\n",
    "cs, cb = plco(Bphi, levels = np.linspace(-0.8, 0.8, 100), isfilled=1,k=0,xy=1,xmax=xmax,ymax=ymax,dobh=1,cb=1,extend=\"both\",pretty=1, cmap = 'RdBu')\n",
    "#cs, cb = plco(bu[3]*B_unit, levels = np.linspace(-0.1, 0.1, 100), isfilled=1, k=0, xy=1, xmax=80, ymax=40, dobh=1, cb=1, extend = \"both\", pretty=1, cmap = 'RdBu')\n",
    "#plt.contour(r2d, z2d, sigma2d, levels=[1], colors=('black'), linestyles=('-.'), linewidths=(2))\n",
    "ax = plt.gca()\n",
    "ax.set_xlabel(r\"$R\\ [r_g]$\",fontsize=20,labelpad=-5, **hfont)\n",
    "ax.set_ylabel(r\"$z\\ [r_g]$\",fontsize=20,labelpad=-5, **hfont)\n",
    "cb.ax.set_xlabel(r\"$B_\\phi$\",fontsize=20,ha=\"left\")\n",
    "cb.set_ticks([-0.8,-0.4,-0,0.4,0.8])\n",
    "plt.xticks(np.arange(0, xmax+1, step=step), **hfont) #GS\n",
    "plt.yticks(np.arange(-ymax, ymax+1, step=step), **hfont) #GS\n",
    "circle1 = plt.Circle((0, 0), Rin, color='black') # GS\n",
    "fig = plt.gcf() # GS\n",
    "ax2 = fig.gca() # GS\n",
    "ax2.add_artist(circle1) # GS\n",
    "#plc(aphi,levels=np.linspace(-amax,amax,14)[1:-1],colors=\"black\",linewidths=1,xy=-1)\n",
    "plt.title(r\"$t=%.4g$\"%np.round(t)+r\"$\\;r_g/c$\", **hfont); \n",
    "plt.tight_layout() # GS\n",
    "plt.draw()\n",
    "#plt.savefig(\"Bphi_4000.png\", dpi = 300)"
   ]
  },
  {
   "cell_type": "code",
   "execution_count": null,
   "metadata": {},
   "outputs": [],
   "source": [
    "xmax = 80\n",
    "ymax = xmax/2\n",
    "step = xmax/4\n",
    "\n",
    "hfont = {'fontname':'Helvetica'}\n",
    "aphi=psicalc()\n",
    "amax = aphi.max()\n",
    "cs, cb = plco(va, levels = np.linspace(0, 1, 100), isfilled=1,k=0,xy=1,xmax=xmax,ymax=ymax,dobh=1,cb=1,extend=\"both\",pretty=1)\n",
    "#cs, cb = plco(bu[3]*B_unit, levels = np.linspace(-0.1, 0.1, 100), isfilled=1, k=0, xy=1, xmax=80, ymax=40, dobh=1, cb=1, extend = \"both\", pretty=1, cmap = 'RdBu')\n",
    "#plt.contour(r2d, z2d, sigma2d, levels=[1], colors=('black'), linestyles=('-.'), linewidths=(2))\n",
    "ax = plt.gca()\n",
    "ax.set_xlabel(r\"$R\\ [r_g]$\",fontsize=20,labelpad=-5, **hfont)\n",
    "ax.set_ylabel(r\"$z\\ [r_g]$\",fontsize=20,labelpad=-5, **hfont)\n",
    "cb.ax.set_xlabel(r\"$v_A$\",fontsize=20,ha=\"left\")\n",
    "cb.set_ticks([0,0.2,0.4,0.6,0.8,1])\n",
    "plt.xticks(np.arange(0, xmax+1, step=step), **hfont) #GS\n",
    "plt.yticks(np.arange(-ymax, ymax+1, step=step), **hfont) #GS\n",
    "circle1 = plt.Circle((0, 0), Rin, color='black') # GS\n",
    "fig = plt.gcf() # GS\n",
    "ax2 = fig.gca() # GS\n",
    "ax2.add_artist(circle1) # GS\n",
    "#plc(aphi,levels=np.linspace(-amax,amax,14)[1:-1],colors=\"black\",linewidths=1,xy=-1)\n",
    "plt.title(r\"$t=%.4g$\"%np.round(t)+r\"$\\;r_g/c$\", **hfont); \n",
    "plt.tight_layout() # GS\n",
    "plt.draw()\n",
    "#plt.savefig(\"rho000_2ds9.png\", dpi = 300)"
   ]
  },
  {
   "cell_type": "code",
   "execution_count": 34,
   "metadata": {},
   "outputs": [
    {
     "name": "stderr",
     "output_type": "stream",
     "text": [
      "findfont: Font family ['sans-serif'] not found. Falling back to DejaVu Sans.\n"
     ]
    },
    {
     "data": {
      "image/png": "[encoded data removed]",
      "text/plain": [
       "<Figure size 432x288 with 2 Axes>"
      ]
     },
     "metadata": {
      "needs_background": "light"
     },
     "output_type": "display_data"
    }
   ],
   "source": [
    "xmax = 80\n",
    "ymax = xmax/2\n",
    "step = xmax/4\n",
    "\n",
    "#cs, cb = plco(jcurr/jcurr.max(), levels=np.linspace(0,1,100), isfilled=1, k=0, xy=1, xmax=10, ymax=5, dobh=1, cb=1, extend = \"both\", pretty=1, cmap = 'Blues')\n",
    "cs, cb = plco(jcurr, levels=np.linspace(0,10e-2,100), isfilled=1, k=0, xy=1, xmax=xmax, ymax=ymax, dobh=1, cb=1, extend = \"both\", pretty=1, cmap = 'Blues')\n",
    "#cs, cb = plco(np.log10(JJ_cs), levels=np.linspace(-2,7,100), isfilled=1, k=0, xy=1, xmax=10, ymax=5, dobh=1, cb=1, extend = \"both\", pretty=1, cmap = 'Blues')\n",
    "ax = plt.gca()\n",
    "ax.set_xlabel(r\"$R\\ [r_g]$\",fontsize=20,labelpad=-5)\n",
    "ax.set_ylabel(r\"$z\\ [r_g]$\",fontsize=20,labelpad=-5)\n",
    "#cb.ax.set_xlabel(r\"$j_{\\mu}/j_{\\mu}^{\\mathrm{max}}$\",fontsize=20,ha=\"left\")\n",
    "cb.set_ticks([0,0.02,0.04,0.06,0.08,0.1])\n",
    "#cb.set_ticks([0,0.2,0.4,0.6,0.8,1])\n",
    "cb.ax.set_ylabel(\"Current density\",fontsize=20, labelpad=1, y=0.5)\n",
    "plt.xticks(np.arange(0, xmax+1, step = step))\n",
    "plt.yticks(np.arange(-ymax, ymax+1, step = step))\n",
    "circle1 = plt.Circle((0, 0), Rin, color = 'black')\n",
    "\n",
    "#plot(rgx[yc]-0.35, rgy[xc], color='orange', marker = 'o', markersize = 1.5)\n",
    "\n",
    "fig = plt.gcf()\n",
    "ax2 = fig.gca()\n",
    "ax2.add_artist(circle1)\n",
    "plt.title(r\"$t=%.5g$\"%np.round(t)+r\"$\\;r_g/c$\")\n",
    "plt.tight_layout()\n",
    "#plt.savefig(\"sheets_4000.png\", format = \"png\", dpi = 300)\n",
    "#plt.clf"
   ]
  },
  {
   "cell_type": "code",
   "execution_count": 35,
   "metadata": {},
   "outputs": [
    {
     "data": {
      "image/png": "[encoded data removed]",
      "text/plain": [
       "<Figure size 432x288 with 2 Axes>"
      ]
     },
     "metadata": {
      "needs_background": "light"
     },
     "output_type": "display_data"
    }
   ],
   "source": [
    "xmax = 10\n",
    "ymax = xmax/2\n",
    "step = xmax/4\n",
    "\n",
    "#cs, cb = plco(JJ_cs/np.max(JJ_cs), levels=np.linspace(0,1,100), isfilled=1, k=0, xy=1, xmax=10, ymax=5, dobh=1, cb=1, extend = \"both\", pretty=1, cmap = 'Blues')\n",
    "cs, cb = plco(JJ_cs, levels=np.linspace(0,10e-2,100), isfilled=1, k=0, xy=1, xmax=xmax, ymax=ymax, dobh=1, cb=1, extend = \"both\", pretty=1, cmap = 'Blues')\n",
    "#cs, cb = plco(np.log10(JJ_cs), levels=np.linspace(-5,0,100), isfilled=1, k=0, xy=1, xmax=10, ymax=5, dobh=1, cb=1, extend = \"both\", pretty=1, cmap = 'Blues')\n",
    "ax = plt.gca()\n",
    "ax.set_xlabel(r\"$R\\ [r_g]$\",fontsize=20,labelpad=-5)\n",
    "ax.set_ylabel(r\"$z\\ [r_g]$\",fontsize=20,labelpad=-5)\n",
    "\n",
    "#plot([rgx[yc]], [rgy[xc]], color='xkcd:aubergine', marker = 'o', markersize = 0.5)\n",
    "\n",
    "#cb.ax.set_xlabel(r\"$\\log\\;J$\",fontsize=20,ha=\"left\")\n",
    "cb.ax.set_xlabel(r\"$J$\",fontsize=20,ha=\"left\")\n",
    "cb.set_ticks([0,0.02,0.04,0.06,0.08,0.1])\n",
    "cb.ax.set_ylabel(\"Current density\",fontsize=20, labelpad=1, y=0.5)\n",
    "plt.xticks(np.arange(0, xmax+1, step = step))\n",
    "plt.yticks(np.arange(-ymax, ymax+1, step = step))\n",
    "circle1 = plt.Circle((0, 0), Rin, color = 'black')\n",
    "fig = plt.gcf()\n",
    "ax2 = fig.gca()\n",
    "ax2.add_artist(circle1)\n",
    "plt.title(r\"$t=%.5g$\"%np.round(t)+r\"$\\;r_g/c$\")\n",
    "plt.tight_layout()\n",
    "#plt.savefig(\"sheets_4000_gyst2.png\", format = \"png\", dpi = 300)\n",
    "#plt.clf"
   ]
  },
  {
   "cell_type": "code",
   "execution_count": 9,
   "metadata": {},
   "outputs": [],
   "source": [
    "rx = []\n",
    "ry = []\n",
    "for i in range(N1):\n",
    "    for j in range(N2):\n",
    "        for k in range(N3):\n",
    "            if (JJ_cs_char_ind[i][j][k] == 1):\n",
    "                rx.append(r[i][j][k] * np.sin(h[i][j][k]))\n",
    "                ry.append(r[i][j][k] * np.cos(h[i][j][k]))"
   ]
  },
  {
   "cell_type": "code",
   "execution_count": 107,
   "metadata": {},
   "outputs": [
    {
     "data": {
      "image/png": "[encoded data removed]",
      "text/plain": [
       "<Figure size 432x288 with 2 Axes>"
      ]
     },
     "metadata": {
      "needs_background": "light"
     },
     "output_type": "display_data"
    }
   ],
   "source": [
    "xmax = 10\n",
    "ymax = xmax/2\n",
    "step = xmax/4\n",
    "\n",
    "hfont = {'fontname':'Helvetica'}\n",
    "aphi=psicalc()\n",
    "amax = aphi.max()\n",
    "cs, cb = plco(Bphi, levels = np.linspace(-2., 2., 100), isfilled=1,k=0,xy=1,xmax=xmax,ymax=ymax,dobh=1,cb=1,extend=\"both\",pretty=1, cmap = 'RdBu')\n",
    "#cs, cb = plco(betapl,isfilled=1,k=0,xy=1,xmax=80,ymax=40,dobh=1,cb=1,extend=\"both\",pretty=1)\n",
    "#plt.contour(r2d, z2d, sigma2d, levels=[1], colors=('black'), linestyles=('-.'), linewidths=(2))\n",
    "\n",
    "plt.scatter(rx, ry, c ='yellow', marker = 'o', s = 0.1)#, markersize = 0.01)\n",
    "\n",
    "ax = plt.gca()\n",
    "ax.set_xlabel(r\"$R\\ [r_g]$\",fontsize=20,labelpad=-5, **hfont)\n",
    "ax.set_ylabel(r\"$z\\ [r_g]$\",fontsize=20,labelpad=-5, **hfont)\n",
    "cb.ax.set_xlabel(r\"$B_\\phi$\",fontsize=20,ha=\"left\")\n",
    "cb.set_ticks([-2.0,-1.,0,1.,2.0])\n",
    "plt.xticks(np.arange(0, xmax+1, step=step), **hfont) #GS\n",
    "plt.yticks(np.arange(-ymax, ymax+1, step=step), **hfont) #GS\n",
    "circle1 = plt.Circle((0, 0), Rin, color='black') # GS\n",
    "fig = plt.gcf() # GS\n",
    "ax2 = fig.gca() # GS\n",
    "ax2.add_artist(circle1) # GS\n",
    "#plc(aphi,levels=np.linspace(-amax,amax,14)[1:-1],colors=\"black\",linewidths=1,xy=-1)\n",
    "plt.title(r\"$t=%.4g$\"%np.round(t)+r\"$\\;r_g/c$\", **hfont); \n",
    "plt.tight_layout() # GS\n",
    "plt.draw()\n",
    "#plt.savefig(\"rho000_2ds9.png\", dpi = 300)"
   ]
  },
  {
   "cell_type": "code",
   "execution_count": 64,
   "metadata": {},
   "outputs": [
    {
     "data": {
      "image/png": "[encoded data removed]",
      "text/plain": [
       "<Figure size 432x288 with 2 Axes>"
      ]
     },
     "metadata": {
      "needs_background": "light"
     },
     "output_type": "display_data"
    }
   ],
   "source": [
    "icord = [408,409,411,413,415,416,418,419]\n",
    "jcord = [113,112,111,110,110,109,109,107]\n",
    "\n",
    "rxx = []\n",
    "ryy = []\n",
    "\n",
    "for i in range(len(icord)):\n",
    "    rxx.append(r[jcord[i]][icord[i]][0] * np.sin(h[jcord[i]][icord[i]][0]))\n",
    "    ryy.append(r[jcord[i]][icord[i]][0] * np.cos(h[jcord[i]][icord[i]][0]))\n",
    "    \n",
    "#testi = [333, 350, 361, 389, 791]\n",
    "#testj = [57, 146, 103, 199, 477]\n",
    "testi = [109]\n",
    "testj= [250]\n",
    "testx = []\n",
    "testy = []\n",
    "for i in range(len(testi)):\n",
    "    testx.append(r[testi[i]][testj[i]][0] * np.sin(h[testi[i]][testj[i]][0]))\n",
    "    testy.append(r[testi[i]][testj[i]][0] * np.cos(h[testi[i]][testj[i]][0]))\n",
    "\n",
    "\n",
    "mirror = 1\n",
    "if(mirror):\n",
    "    xmax = 40\n",
    "    xmin = 0\n",
    "    ymax = xmax/2\n",
    "    ymin = -ymax\n",
    "    step = xmax/4\n",
    "else:\n",
    "    xmax = 5\n",
    "    ymax = -10\n",
    "    xmin = 0\n",
    "    ymin = -15\n",
    "    step = 5\n",
    "\n",
    "hfont = {'fontname':'Helvetica'}\n",
    "aphi=psicalc()\n",
    "amax = aphi.max()\n",
    "\n",
    "#cs, cb = plco(Bphi, levels = np.linspace(-1, 1, 100), isfilled=1,k=0,xy=1,xmax=xmax,ymax=ymax,dobh=1,cb=1,extend=\"both\",pretty=1, cmap = 'RdBu')\n",
    "cs, cb = plco(JJ_cs, levels=np.linspace(0,10e-5,100), isfilled=1, k=0, xy=1, xmax=xmax, ymax=ymax, dobh=1, cb=1, extend = \"both\", pretty=1, cmap = 'Blues')\n",
    "\n",
    "#cs, cb = plco(betapl,isfilled=1,k=0,xy=1,xmax=80,ymax=40,dobh=1,cb=1,extend=\"both\",pretty=1)\n",
    "#plt.contour(r2d, z2d, sigma2d, levels=[1], colors=('black'), linestyles=('-.'), linewidths=(2))\n",
    "\n",
    "#plt.scatter(rx, ry, c ='yellow', marker = 'o', s = 0.5)#, markersize = 0.01)\n",
    "#plt.scatter(rxx, ryy, c ='orange', marker = 'o', s = 0.5)#, markersize = 0.01)\n",
    "plt.scatter(testx, testy, c ='yellow', marker = 'o', s = 5)#, markersize = 0.01)\n",
    "\n",
    "ax = plt.gca()\n",
    "ax.set_xlabel(r\"$R\\ [r_g]$\",fontsize=20,labelpad=-5, **hfont)\n",
    "ax.set_ylabel(r\"$z\\ [r_g]$\",fontsize=20,labelpad=-5, **hfont)\n",
    "cb.ax.set_xlabel(r\"$B_\\phi$\",fontsize=20,ha=\"left\")\n",
    "#cb.set_ticks([-1,-0.5,0,0.5,1.0])\n",
    "#cb.set_ticks([-1,-0.5,0,0.5,1.0])\n",
    "if(mirror):\n",
    "    plt.xticks(np.arange(xmin, xmax+1, step=step), **hfont) #GS\n",
    "    plt.yticks(np.arange(ymin, ymax+1, step=step), **hfont) #GS\n",
    "    plt.xlim(xmin,xmax+1)\n",
    "    plt.ylim(ymin,ymax+1)\n",
    "else:\n",
    "    plt.xticks(np.arange(xmin, xmax+1, step=step), **hfont) #GS\n",
    "    plt.yticks(np.arange(ymin, ymax+1, step=step), **hfont) #GS\n",
    "    plt.xlim(xmin,xmax+1)\n",
    "    plt.ylim(ymin,ymax+1)\n",
    "circle1 = plt.Circle((0, 0), Rin, color='black') # GS\n",
    "fig = plt.gcf() # GS\n",
    "ax2 = fig.gca() # GS\n",
    "ax2.add_artist(circle1) # GS\n",
    "#plc(aphi,levels=np.linspace(-amax,amax,14)[1:-1],colors=\"black\",linewidths=1,xy=-1)\n",
    "plt.title(r\"$t=%.4g$\"%np.round(t)+r\"$\\;r_g/c$\", **hfont); \n",
    "plt.tight_layout() # GS\n",
    "plt.draw()\n",
    "#plt.savefig(\"rho000_2ds9.png\", dpi = 300)"
   ]
  },
  {
   "cell_type": "code",
   "execution_count": 60,
   "metadata": {},
   "outputs": [
    {
     "data": {
      "text/plain": [
       "57991"
      ]
     },
     "execution_count": 60,
     "metadata": {},
     "output_type": "execute_result"
    }
   ],
   "source": [
    "np.count_nonzero(JJ_cs)"
   ]
  },
  {
   "cell_type": "code",
   "execution_count": 61,
   "metadata": {},
   "outputs": [
    {
     "data": {
      "text/plain": [
       "56598"
      ]
     },
     "execution_count": 61,
     "metadata": {},
     "output_type": "execute_result"
    }
   ],
   "source": [
    "np.count_nonzero(JJ_cs_peak)"
   ]
  },
  {
   "cell_type": "code",
   "execution_count": 62,
   "metadata": {
    "scrolled": true
   },
   "outputs": [
    {
     "data": {
      "text/plain": [
       "45438"
      ]
     },
     "execution_count": 62,
     "metadata": {},
     "output_type": "execute_result"
    }
   ],
   "source": [
    "np.count_nonzero(JJ_cs_char)"
   ]
  },
  {
   "cell_type": "markdown",
   "metadata": {},
   "source": [
    "## Characterization of current sheets"
   ]
  },
  {
   "cell_type": "code",
   "execution_count": null,
   "metadata": {},
   "outputs": [],
   "source": [
    "hdeg = degrees(h[0])\n",
    "hfont = {'fontname':'Helvetica'}\n",
    "plt.plot(hdeg,sigma[55], label = r'$r = 5\\;r_g$', color = 'black')\n",
    "plt.plot(hdeg,sigma[83], label = r'$r = 10\\;r_g$', color='green')\n",
    "plt.plot(hdeg,sigma[99], label = r'$r = 15\\;r_g$', color ='blue')\n",
    "plt.plot(hdeg,sigma[110], label = r'$r = 20\\;r_g$', color='yellow')\n",
    "plt.yscale('log')\n",
    "plt.xlabel(r'$\\theta\\;(deg)$')\n",
    "plt.ylabel(r'$\\sigma$')\n",
    "plt.xticks(np.arange(0, 181, step=30)) #GS\n",
    "#plt.yticks(np.arange(49, 50, step=10)) #GS\n",
    "plt.legend()\n",
    "plt.tight_layout() # GS\n",
    "#plt.savefig(\"/work/gustavo/2ds9/harmpi-master/current_sheets/sigma_radius.png\", dpi = 200)\n"
   ]
  },
  {
   "cell_type": "markdown",
   "metadata": {},
   "source": [
    "### Regrid"
   ]
  },
  {
   "cell_type": "code",
   "execution_count": null,
   "metadata": {},
   "outputs": [],
   "source": [
    "def regrid(radius, angle, bu3, jcurr, JJ_cs, n1, n2, xlim = None):\n",
    " \n",
    "    \"\"\"\n",
    "        bu3: b_phi\n",
    "        jcurr: current\n",
    "        JJ_cs: only current sheet\n",
    "    \n",
    "    \"\"\"\n",
    "    \n",
    "    if(xlim == None):\n",
    "        xlim = radius.max()\n",
    "    \n",
    "    n1new = 3000\n",
    "    n2new = 3000\n",
    "    \n",
    "    angle = -(angle-numpy.pi/2.) # spherical angle => polar angle\n",
    "\n",
    "    xnew = numpy.linspace(0, xlim, n1new)\n",
    "    ynew = numpy.linspace(-xlim, xlim, n2new)\n",
    "    \n",
    "    #new_rg_x = xnew*xlim/n1new\n",
    "    #new_rg_y = new_rg_x - 0.5*n2new\n",
    "\n",
    "    new_bu3   = numpy.zeros((n1new, n2new))\n",
    "    new_jcurr = numpy.zeros((n1new, n2new))\n",
    "    new_JJcs  = numpy.zeros((n1new, n2new))\n",
    "\n",
    "    # *****BOTTLENECK*****\n",
    "    # goes through new array\n",
    "    for i in range(xnew.size):\n",
    "        for j in range(ynew.size):\n",
    "                    \n",
    "            rnew, thnew = nmmn.misc.cart2pol(xnew[i], ynew[j])\n",
    "            # position in old array\n",
    "            iref = nmmn.lsd.search(rnew, radius)\n",
    "            jref = nmmn.lsd.search(thnew, angle)\n",
    "\n",
    "            new_bu3[j,i]   = bu3[iref,jref]\n",
    "            new_jcurr[j,i] = jcurr[iref,jref]\n",
    "            new_JJcs[j,i]  = JJ_cs[iref,jref]\n",
    "    # *****END BOTTLENECK*****\n",
    "        \n",
    "    return new_bu3, new_jcurr, new_JJcs, n1new, n2new, xnew, ynew"
   ]
  },
  {
   "cell_type": "code",
   "execution_count": null,
   "metadata": {},
   "outputs": [],
   "source": [
    "c_bu3 = bu[3][:,:,0]\n",
    "c_jcurr = jcurr[:,:,0]\n",
    "c_JJcs = JJ_cs[:,:,0]\n",
    "c_r = r[:,0,0]#.flatten()\n",
    "c_h = h[0,:,0]#.flatten()"
   ]
  },
  {
   "cell_type": "code",
   "execution_count": null,
   "metadata": {},
   "outputs": [],
   "source": [
    "r0 = 1.1951147\n",
    "r1 = 1.2411376\n",
    "deltar = r1 - r0\n",
    "print(deltar)\n",
    "print(100/deltar)"
   ]
  },
  {
   "cell_type": "code",
   "execution_count": null,
   "metadata": {},
   "outputs": [],
   "source": [
    "%%time\n",
    "n_bu3, n_jcurr, n_JJcs, nx_new, ny_new, rgx, rgy = regrid (c_r, c_h, c_bu3, c_jcurr, c_JJcs, nx, ny, xlim=80)"
   ]
  },
  {
   "cell_type": "code",
   "execution_count": null,
   "metadata": {},
   "outputs": [],
   "source": [
    "def withinlimits(icell, jcell):\n",
    "    \n",
    "    if (icell >= nx_new): icell = nx_new-1\n",
    "    elif (icell < 0): icell = 0\n",
    "    if (jcell >= ny_new): jcell = ny_new-1\n",
    "    elif (jcell < 0): jcell = 0\n",
    "        \n",
    "    return icell, jcell"
   ]
  },
  {
   "cell_type": "code",
   "execution_count": null,
   "metadata": {},
   "outputs": [],
   "source": [
    "def alongplus(i, j, mat, slope, intercept, dist_increase, thr):\n",
    "\n",
    "    global ip, jp, bp, bp_arr, jcurrp, jp_arr, xp, yp\n",
    "\n",
    "    bp_arr = []\n",
    "    jp_arr = []\n",
    "    dist = 0\n",
    "    k = 0\n",
    "\n",
    "    while True:\n",
    "        ip = i + dist\n",
    "        jp = slope*ip + intercept\n",
    "        \n",
    "        if (ip < 0 or jp < 0):\n",
    "            break\n",
    "                \n",
    "        # round cells\n",
    "        ip = int(round(ip))\n",
    "        jp = int(round(jp))\n",
    "    \n",
    "        # make sure the cells are within grid limits\n",
    "        ip, jp = withinlimits(ip, jp)\n",
    "                    \n",
    "        # get physical quantities\n",
    "        bp = mat[ip][jp]\n",
    "        jcurrp = n_jcurr[ip][jp]\n",
    "                \n",
    "        if (dist > thr):\n",
    "            #xp = ip\n",
    "            #yp = jp\n",
    "            break\n",
    "                                \n",
    "        # append quantities to arrays\n",
    "        bp_arr.append(bp)\n",
    "        jp_arr.append(jcurrp)\n",
    "        \n",
    "        # get current \"last\" member of sequence coordinates and increase distance\n",
    "        xp = ip#r[ip][jp] * np.sin(h[ip][jp])\n",
    "        yp = jp#r[ip][jp] * np.cos(h[ip][jp])\n",
    "        dist += dist_increase\n",
    "        \n",
    "def alongminus(i, j, mat, slope, intercept, dist_increase, thr):\n",
    "\n",
    "    global im, jm, bm, bm_arr, jcurr, jm_arr, xm, ym\n",
    "\n",
    "    bm_arr = []\n",
    "    jm_arr = []\n",
    "    dist = 0\n",
    "    k = 0\n",
    "\n",
    "    while True:       \n",
    "        im = i - dist\n",
    "        jm = slope*im + intercept\n",
    "        \n",
    "        if (im < 0 or jm < 0):\n",
    "            break\n",
    "                \n",
    "        # round cells\n",
    "        im = int(round(im))\n",
    "        jm = int(round(jm))\n",
    "    \n",
    "        # make sure the cells are within grid limits\n",
    "        im, jm = withinlimits(im, jm)\n",
    "                    \n",
    "        # get physical quantities\n",
    "        bm = mat[im][jm]\n",
    "        jcurrm = n_jcurr[im][jm]\n",
    "                \n",
    "        if (dist > thr):\n",
    "            #xm = im\n",
    "            #ym = jm\n",
    "            break\n",
    "                                \n",
    "        # append quantities to arrays\n",
    "        bm_arr.append(bm)\n",
    "        jm_arr.append(jcurrm)\n",
    "\n",
    "        # get current \"last\" member of sequence coordinates and increase distance\n",
    "        xm = im#r[im][jm] * np.sin(h[im][jm])\n",
    "        ym = jm#r[im][jm] * np.cos(h[im][jm])\n",
    "        dist += dist_increase\n",
    "                \n",
    "def get_intercept(x, y, slope):\n",
    "    return y - slope * x"
   ]
  },
  {
   "cell_type": "code",
   "execution_count": null,
   "metadata": {},
   "outputs": [],
   "source": [
    "BOXSIZE = 25#11\n",
    "LIMIT = int(BOXSIZE/2 - 0.5)\n",
    "Bu3_THR = 10e-2\n",
    "dist_increase = 0.2\n",
    "thr = 5\n",
    "n_bphi = n_bu3*B_unit"
   ]
  },
  {
   "cell_type": "code",
   "execution_count": null,
   "metadata": {},
   "outputs": [],
   "source": [
    "#print(n_JJcs[n_JJcs != 0])\n",
    "#print(JJ_cs[JJ_cs != 0])\n",
    "#np.where(n_JJcs != 0)\n",
    "#np.where(np.abs(n_bphi) < Bu3_THR)"
   ]
  },
  {
   "cell_type": "markdown",
   "metadata": {},
   "source": [
    "### All points"
   ]
  },
  {
   "cell_type": "code",
   "execution_count": null,
   "metadata": {},
   "outputs": [],
   "source": [
    "k = 0\n",
    "\n",
    "#for i in range(LIMIT, nx_new-LIMIT, 1):\n",
    "#for i in range(1498, nx_new-LIMIT, 1):\n",
    "for i in range(1600, 1800, 1):\n",
    "    #for j in range(LIMIT, ny_new-LIMIT, 1):\n",
    "    for j in range(LIMIT, 290-LIMIT, 1):\n",
    "\n",
    "        xc = i#r[i][j] * np.sin(h[i][j])\n",
    "        yc = j#r[i][j] * np.cos(h[i][j])\n",
    "\n",
    "        if((n_JJcs[i][j] != 0) and (np.abs(n_bphi[i][j]) < 10*Bu3_THR)):\n",
    "            # get box limits\n",
    "            ibox_min = i - LIMIT\n",
    "            jbox_min = j - LIMIT\n",
    "            ibox_max = i + LIMIT\n",
    "            jbox_max = j + LIMIT\n",
    "            \n",
    "            # check within box\n",
    "            nbox = 0\n",
    "            theta = 0\n",
    "            for ibox in range(ibox_min, ibox_max+1, 1):\n",
    "                for jbox in range(jbox_min, jbox_max+1, 1):\n",
    "                    \n",
    "                    # make sure we are not applying this to our central point (i,j)\n",
    "                    if ((i == ibox) and (j == jbox)):\n",
    "                        continue\n",
    "                    \n",
    "                    # check if point belongs to sheet\n",
    "                    elif((n_JJcs[i][j] != 0) and (np.abs(n_bphi[i][j]) < 10*Bu3_THR)):\n",
    "                        # get angle\n",
    "                        nbox += 1\n",
    "                        if (i == ibox):\n",
    "                            theta += 0\n",
    "                        else:\n",
    "                            theta += np.abs(np.arctan((jbox - j)/(ibox - i)))\n",
    "                                                    \n",
    "            # once we finish the box, we get the average slope\n",
    "            theta = theta/nbox\n",
    "            slope = np.tan(theta)\n",
    "            normal = -1./slope\n",
    "            intercept = get_intercept(i, j, normal)\n",
    "\n",
    "            alongplus(i, j, n_bphi, normal, intercept, dist_increase, thr)\n",
    "            alongminus(i, j, n_bphi, normal, intercept, dist_increase, thr)\n",
    "\n",
    "            print(\"xm,ym,xp,yp,slope,intercept\")\n",
    "            print(xm,ym,xp,yp,slope,intercept)\n",
    "            \n",
    "            bp_arr = np.asarray(bp_arr)\n",
    "            bm_arr = np.asarray(bm_arr)\n",
    "            jp_arr = np.asarray(jp_arr)\n",
    "            jm_arr = np.asarray(jm_arr)\n",
    "\n",
    "            # flip m array so we can have a continuous array with p and m quantities\n",
    "            bm_arr = np.flip(bm_arr, 0)\n",
    "            jm_arr = np.flip(jm_arr, 0)\n",
    "            bplot = np.append(bm_arr, bp_arr)\n",
    "            jplot = np.append(jm_arr, jp_arr)\n",
    "\n",
    "            # normalize jplot\n",
    "            jplot = jplot/np.max(jplot)\n",
    "\n",
    "            plt.figure(num=1, figsize=(6,4))\n",
    "\n",
    "            rcParams['font.family'] = 'sans-serif'\n",
    "            rcParams['font.sans-serif'] = ['Helvetica']\n",
    "            #rcParams['font.size'] = 8\n",
    "\n",
    "            myvar = n_bu3*B_unit\n",
    "            plt.pcolormesh(rgx,rgy,myvar, cmap='RdBu', vmin=-25.0, vmax=25.0)\n",
    "            ax = plt.gca()\n",
    "            ax.set_aspect(1)\n",
    "            ax.set_xlabel(r\"$R\\ [r_g]$\",fontsize=20,labelpad=-5)\n",
    "            ax.set_ylabel(r\"$z\\ [r_g]$\",fontsize=20,labelpad=-5)\n",
    "            plt.xticks(np.arange(0, 21, step=5))\n",
    "            plt.yticks(np.arange(-10, 11, step=5))\n",
    "            plt.xlim(0,20)\n",
    "            plt.ylim(-10,10)\n",
    "            fig = plt.gcf()\n",
    "            plot([rgx[ym], rgx[yp]], [rgy[xm], rgy[xp]], color='yellow', linestyle='-', linewidth=0.5)\n",
    "            plot([rgx[yc]], [rgy[xc]], color='orange', marker = 'o', markersize = 0.5)\n",
    "            cbar = plt.colorbar()\n",
    "            cbar.ax.set_xlabel(r\"$b_\\phi$\",fontsize=25,ha=\"left\")\n",
    "            #generate ellipse object\n",
    "            #import the Ellipse function\n",
    "            from matplotlib.patches import Ellipse\n",
    "            #create Ellipse \"actor\"\n",
    "            el = Ellipse((0,0), #origin of ellipse\n",
    "                2*rhor, 2*rhor, #major axes of ellipse\n",
    "                facecolor='black', #color of ellipse\n",
    "                alpha=1) #opacity of ellipse\n",
    "            ax=plt.gca() #get current axes\n",
    "            art=ax.add_artist(el) #show object in axes\n",
    "            art.set_zorder(20) #bring ellipse to front\n",
    "            plt.tight_layout()  # otherwise the right y-label is slightly clipped\n",
    "\n",
    "            ax1 = fig.add_axes([0.475, 0.295, 0.23, 0.23])\n",
    "            ax1.set_title(r'$b_\\phi$ and current profiles', fontsize = 8)\n",
    "            color = 'xkcd:dark purple'\n",
    "            ax1.set_xlabel('dist (arbitrary units)', fontsize = 8)\n",
    "            ax1.set_ylabel(r'$b_\\phi\\;(G)$', color=color, fontsize = 8)\n",
    "            ax1.plot(bplot, color=color)\n",
    "            ax1.tick_params(axis='y', labelcolor=color, labelsize = 8)\n",
    "            ax1.tick_params(axis='x', labelsize = 8)\n",
    "            ax2 = ax1.twinx()  # instantiate a second axes that shares the same x-axis\n",
    "            color = 'xkcd:dark orange'\n",
    "            ax2.set_ylabel('Current density', color=color, fontsize = 8)  # we already handled the x-label with ax1\n",
    "            ax2.plot(jplot, color=color)\n",
    "            ax2.tick_params(axis='y', labelcolor=color, labelsize = 8)\n",
    "            plt.tight_layout()  # otherwise the right y-label is slightly clipped\n",
    "            \n",
    "            plt.savefig(\"/work/gustavo/2ds9/harmpi-master/current_sheets/%d_%d_%d.png\" %(j, i, k), dpi = 250)\n",
    "            plt.close()"
   ]
  },
  {
   "cell_type": "markdown",
   "metadata": {},
   "source": [
    "### Single point"
   ]
  },
  {
   "cell_type": "code",
   "execution_count": null,
   "metadata": {},
   "outputs": [],
   "source": [
    "#i = 1498\n",
    "#j = 56\n",
    "\n",
    "i = 1554\n",
    "j = 41\n",
    "\n",
    "k = 0\n",
    "\n",
    "xc = i#r[i][j] * np.sin(h[i][j])\n",
    "yc = j#r[i][j] * np.cos(h[i][j])\n",
    "\n",
    "\n",
    "if((n_JJcs[i][j] != 0) and (np.abs(n_bu3[i][j]) < Bu3_THR)):\n",
    "    # get box limits\n",
    "    ibox_min = i - LIMIT\n",
    "    jbox_min = j - LIMIT\n",
    "    ibox_max = i + LIMIT\n",
    "    jbox_max = j + LIMIT\n",
    "            \n",
    "    # check within box\n",
    "    nbox = 0\n",
    "    theta = 0\n",
    "    for ibox in range(ibox_min, ibox_max+1, 1):\n",
    "        for jbox in range(jbox_min, jbox_max+1, 1):\n",
    "                    \n",
    "            # make sure we are not applying this to our central point (i,j)\n",
    "            if ((i == ibox) and (j == jbox)):\n",
    "                continue\n",
    "                    \n",
    "            # check if point belongs to sheet\n",
    "            if((n_JJcs[i][j] != 0) and (np.abs(n_bu3[i][j]) < Bu3_THR)):       \n",
    "                # get angle\n",
    "                nbox += 1\n",
    "                if (i == ibox):\n",
    "                    theta += 0\n",
    "                else:\n",
    "                    theta += np.abs(np.arctan((jbox - j)/(ibox - i)))\n",
    "                                                    \n",
    "    # once we finish the box, we get the average slope\n",
    "    theta = theta/nbox\n",
    "    slope = np.tan(theta)\n",
    "    slope = 0.575\n",
    "    normal = -1./slope\n",
    "    intercept = get_intercept(i, j, normal)\n",
    "\n",
    "    alongplus(i, j, n_bphi, normal, intercept, dist_increase, thr)\n",
    "    alongminus(i, j, n_bphi, normal, intercept, dist_increase, thr)\n",
    "\n",
    "    bp_arr = np.asarray(bp_arr)\n",
    "    bm_arr = np.asarray(bm_arr)\n",
    "    jp_arr = np.asarray(jp_arr)\n",
    "    jm_arr = np.asarray(jm_arr)\n",
    "\n",
    "    # flip m array so we can have a continuous array with p and m quantities\n",
    "    bm_arr = np.flip(bm_arr, 0)\n",
    "    jm_arr = np.flip(jm_arr, 0)\n",
    "    bplot = np.append(bm_arr, bp_arr)\n",
    "    jplot = np.append(jm_arr, jp_arr)\n",
    "\n",
    "    # normalize jplot\n",
    "    jplot = jplot/np.max(jplot)\n",
    "\n",
    "    # plot snapshots\n",
    "\n",
    "    plt.figure(num=1, figsize=(6,4))\n",
    "\n",
    "    rcParams['font.family'] = 'sans-serif'\n",
    "    rcParams['font.sans-serif'] = ['Helvetica']\n",
    "    #rcParams['font.size'] = 8\n",
    "\n",
    "    myvar = n_bu3*B_unit\n",
    "    plt.pcolormesh(rgx,rgy,myvar, cmap='RdBu', vmin=-25.0, vmax=25.0)\n",
    "    ax = plt.gca()\n",
    "    ax.set_aspect(1)\n",
    "    ax.set_xlabel(r\"$R\\ [r_g]$\",fontsize=20,labelpad=-5)\n",
    "    ax.set_ylabel(r\"$z\\ [r_g]$\",fontsize=20,labelpad=-5)\n",
    "    plt.xticks(np.arange(0, 21, step=5))\n",
    "    plt.yticks(np.arange(-10, 11, step=5))\n",
    "    plt.xlim(0,20)\n",
    "    plt.ylim(-10,10)\n",
    "    fig = plt.gcf()\n",
    "    plot([rgx[ym], rgx[yp]], [rgy[xm], rgy[xp]], color='yellow', linestyle='-', linewidth=0.5)\n",
    "    plot([rgx[yc]], [rgy[xc]], color='orange', marker = 'o', markersize = 0.5)\n",
    "    cbar = plt.colorbar()\n",
    "    cbar.ax.set_xlabel(r\"$b_\\phi$\",fontsize=25,ha=\"left\")\n",
    "    #generate ellipse object\n",
    "    #import the Ellipse function\n",
    "    from matplotlib.patches import Ellipse\n",
    "    #create Ellipse \"actor\"\n",
    "    el = Ellipse((0,0), #origin of ellipse\n",
    "        2*rhor, 2*rhor, #major axes of ellipse\n",
    "        facecolor='black', #color of ellipse\n",
    "        alpha=1) #opacity of ellipse\n",
    "    ax=plt.gca() #get current axes\n",
    "    art=ax.add_artist(el) #show object in axes\n",
    "    art.set_zorder(20) #bring ellipse to front\n",
    "    plt.tight_layout()  # otherwise the right y-label is slightly clipped\n",
    "\n",
    "    \n",
    "    from matplotlib.ticker import FormatStrFormatter\n",
    "    \n",
    "    ax1 = fig.add_axes([0.43, 0.5, 0.25, 0.25])\n",
    "    ax1.set_title(r'$b_\\phi$ and current profiles', fontsize = 8)\n",
    "    color = 'xkcd:green'\n",
    "    ax1.set_xlabel(r'$\\mathrm{distance}\\;(r_g)$', fontsize = 8, color = 'yellow')\n",
    "    sizeline = np.sqrt((rgx[ym] - rgx[yp])**2 + (rgy[xm] - rgy[xp])**2)\n",
    "    my_xticks = [0.00,0.17,0.34,0.51,0.68]\n",
    "    ax1.xaxis.set_major_formatter(ticker.FixedFormatter(my_xticks))\n",
    "    ax1.xaxis.set_major_locator(plt.MaxNLocator(5))\n",
    "    ax1.set_ylabel(r'$b_\\phi\\;(G)$', color=color, fontsize = 8)\n",
    "    ax1.plot(bplot, color=color)\n",
    "    ax1.tick_params(axis='y', labelcolor=color, labelsize = 8)\n",
    "    ax1.tick_params(axis='x', labelsize = 8, color = 'yellow')\n",
    "    ax2 = ax1.twinx()  # instantiate a second axes that shares the same x-axis\n",
    "    color = 'xkcd:dark orange'\n",
    "    ax2.set_ylabel('Current density', color=color, fontsize = 8)  # we already handled the x-label with ax1\n",
    "    ax2.plot(jplot, color=color)\n",
    "    ax2.tick_params(axis='y', labelcolor=color, labelsize = 8)\n",
    "    plt.tight_layout()  # otherwise the right y-label is slightly clipped\n",
    "\n",
    "    plt.savefig(\"/work/gustavo/2ds9/harmpi-master/current_sheets/%d_%d_%d.png\" %(j, i, k), dpi = 200)\n",
    "    plt.close()"
   ]
  },
  {
   "cell_type": "code",
   "execution_count": null,
   "metadata": {},
   "outputs": [],
   "source": [
    "rgx[yc]"
   ]
  },
  {
   "cell_type": "code",
   "execution_count": null,
   "metadata": {},
   "outputs": [],
   "source": [
    "rgy[xc]"
   ]
  },
  {
   "cell_type": "code",
   "execution_count": null,
   "metadata": {},
   "outputs": [],
   "source": [
    "rrrr = np.sqrt(rgx[yc]**2 + rgy[xc]**2)\n",
    "thth = np.arctan(rgy[xc]/rgx[yc])"
   ]
  },
  {
   "cell_type": "code",
   "execution_count": null,
   "metadata": {},
   "outputs": [],
   "source": [
    "rrrr 3.10800934e+00"
   ]
  },
  {
   "cell_type": "code",
   "execution_count": null,
   "metadata": {},
   "outputs": [],
   "source": [
    "thth 1.2146679"
   ]
  },
  {
   "cell_type": "code",
   "execution_count": null,
   "metadata": {},
   "outputs": [],
   "source": [
    "r[36,0,0]"
   ]
  },
  {
   "cell_type": "code",
   "execution_count": null,
   "metadata": {},
   "outputs": [],
   "source": [
    "h[0,49,0]"
   ]
  },
  {
   "cell_type": "code",
   "execution_count": null,
   "metadata": {},
   "outputs": [],
   "source": [
    "bplot"
   ]
  },
  {
   "cell_type": "code",
   "execution_count": null,
   "metadata": {
    "scrolled": true
   },
   "outputs": [],
   "source": [
    "np.sqrt((rgx[ym] - rgx[yp])**2 + (rgy[xm] - rgy[xp])**2)"
   ]
  },
  {
   "cell_type": "code",
   "execution_count": null,
   "metadata": {},
   "outputs": [],
   "source": [
    "rgx[ym]"
   ]
  },
  {
   "cell_type": "code",
   "execution_count": null,
   "metadata": {},
   "outputs": [],
   "source": [
    "rgx[yp]"
   ]
  },
  {
   "cell_type": "code",
   "execution_count": null,
   "metadata": {},
   "outputs": [],
   "source": [
    "rgy[xm]"
   ]
  },
  {
   "cell_type": "code",
   "execution_count": null,
   "metadata": {},
   "outputs": [],
   "source": [
    "rgy[xp]"
   ]
  },
  {
   "cell_type": "code",
   "execution_count": null,
   "metadata": {
    "scrolled": true
   },
   "outputs": [],
   "source": [
    "rgx[41]"
   ]
  },
  {
   "cell_type": "code",
   "execution_count": null,
   "metadata": {},
   "outputs": [],
   "source": [
    "rgy[1554]"
   ]
  },
  {
   "cell_type": "code",
   "execution_count": null,
   "metadata": {},
   "outputs": [],
   "source": [
    "bb1 = bplot/np.max(bplot)"
   ]
  },
  {
   "cell_type": "code",
   "execution_count": null,
   "metadata": {},
   "outputs": [],
   "source": [
    "bb2 = bplot/np.max(bplot)"
   ]
  },
  {
   "cell_type": "code",
   "execution_count": null,
   "metadata": {},
   "outputs": [],
   "source": [
    "bb3 = bplot/np.max(bplot)"
   ]
  },
  {
   "cell_type": "code",
   "execution_count": null,
   "metadata": {},
   "outputs": [],
   "source": [
    "rcParams['font.family'] = 'sans-serif'\n",
    "rcParams['font.sans-serif'] = ['Helvetica']\n",
    "plt.title(r'$b_\\phi$ profiles at current sheets: normalized sample')\n",
    "plt.xlabel('dist (arbitrary units)', fontsize = 12)\n",
    "plt.ylabel(r'$b_\\phi\\;(G)$')\n",
    "plt.plot(bb1, color = 'red')\n",
    "plt.plot(bb2, color = 'blue')\n",
    "plt.plot(bb3, color = 'green')\n",
    "plt.tight_layout()  # otherwise the right y-label is slightly clipped\n",
    "plt.savefig(\"/home/gustavo/profiles/many_bs.png\", dpi = 200)\n",
    "plt.close()"
   ]
  },
  {
   "cell_type": "markdown",
   "metadata": {},
   "source": [
    "### Plot only"
   ]
  },
  {
   "cell_type": "code",
   "execution_count": null,
   "metadata": {},
   "outputs": [],
   "source": [
    "# plot snapshots\n",
    "\n",
    "plt.figure(num=1, figsize=(6,4))\n",
    "\n",
    "rcParams['font.family'] = 'sans-serif'\n",
    "rcParams['font.sans-serif'] = ['Helvetica']\n",
    "#rcParams['font.size'] = 8\n",
    "\n",
    "myvar = n_bu3*B_unit\n",
    "plt.pcolormesh(rgx,rgy,myvar, cmap='RdBu', vmin=-25.0, vmax=25.0)\n",
    "ax = plt.gca()\n",
    "ax.set_aspect(1)\n",
    "ax.set_xlabel(r\"$R\\ [r_g]$\",fontsize=20,labelpad=-5)\n",
    "ax.set_ylabel(r\"$z\\ [r_g]$\",fontsize=20,labelpad=-5)\n",
    "plt.xticks(np.arange(0, 21, step=5))\n",
    "plt.yticks(np.arange(-10, 11, step=5))\n",
    "plt.xlim(0,20)\n",
    "plt.ylim(-10,10)\n",
    "fig = plt.gcf()\n",
    "plot([rgx[ym], rgx[yp]], [rgy[xm], rgy[xp]], color='xkcd:teal', linestyle='-', linewidth=0.5)\n",
    "plot([rgx[yc]], [rgy[xc]], color='xkcd:aubergine', marker = 'o', markersize = 0.5)\n",
    "cbar = plt.colorbar()\n",
    "cbar.ax.set_xlabel(r\"$b_\\phi$\",fontsize=25,ha=\"left\")\n",
    "#generate ellipse object\n",
    "#import the Ellipse function\n",
    "from matplotlib.patches import Ellipse\n",
    "#create Ellipse \"actor\"\n",
    "el = Ellipse((0,0), #origin of ellipse\n",
    "    2*rhor, 2*rhor, #major axes of ellipse\n",
    "    facecolor='black', #color of ellipse\n",
    "    alpha=1) #opacity of ellipse\n",
    "ax=plt.gca() #get current axes\n",
    "art=ax.add_artist(el) #show object in axes\n",
    "art.set_zorder(20) #bring ellipse to front\n",
    "plt.tight_layout()  # otherwise the right y-label is slightly clipped\n",
    "\n",
    "ax1 = fig.add_axes([0.475, 0.295, 0.23, 0.23])\n",
    "ax1.set_title(r'$b_\\phi$ and current profiles', fontsize = 8)\n",
    "color = 'xkcd:dark purple'\n",
    "ax1.set_xlabel('dist (arbitrary units)', fontsize = 8)\n",
    "ax1.set_ylabel(r'$b_\\phi\\;(G)$', color=color, fontsize = 8)\n",
    "ax1.plot(bplot, color=color)\n",
    "ax1.tick_params(axis='y', labelcolor=color, labelsize = 8)\n",
    "ax1.tick_params(axis='x', labelsize = 8)\n",
    "ax2 = ax1.twinx()  # instantiate a second axes that shares the same x-axis\n",
    "color = 'xkcd:dark orange'\n",
    "ax2.set_ylabel('Current density', color=color, fontsize = 8)  # we already handled the x-label with ax1\n",
    "ax2.plot(jplot, color=color)\n",
    "ax2.tick_params(axis='y', labelcolor=color, labelsize = 8)\n",
    "plt.tight_layout()  # otherwise the right y-label is slightly clipped\n",
    "\"\"\"\n",
    "# plot profiles\n",
    "ax1 = plt.subplot(122)\n",
    "color = 'tab:blue'\n",
    "ax1.set_xlabel('dist')\n",
    "ax1.set_ylabel(r'$b_\\phi\\;(G)$', color=color)\n",
    "ax1.plot(bplot, color=color)\n",
    "ax1.tick_params(axis='y', labelcolor=color)\n",
    "ax2 = ax1.twinx()  # instantiate a second axes that shares the same x-axis\n",
    "color = 'tab:red'\n",
    "ax2.set_ylabel('Current density', color=color)  # we already handled the x-label with ax1\n",
    "ax2.plot(jplot, color=color)\n",
    "ax2.tick_params(axis='y', labelcolor=color)\n",
    "plt.tight_layout()  # otherwise the right y-label is slightly clipped\n",
    "\"\"\"\n",
    "plt.savefig(\"/home/gustavo/profiles/doubleplot_%d_%d_%d.png\" %(j, i, k), dpi = 250)\n",
    "plt.close()"
   ]
  },
  {
   "cell_type": "markdown",
   "metadata": {},
   "source": [
    "## Current sheets"
   ]
  },
  {
   "cell_type": "code",
   "execution_count": null,
   "metadata": {},
   "outputs": [],
   "source": [
    "#Jfile = \"/work/gustavo/2ds9/harmpi-master/current_sheets/dump065_jcs\"\n",
    "#Jfile = \"/work/gustavo/2ds9/harmpi-master/current_sheets/dump065_jcs_peak\"\n",
    "Jfile = \"/home/gustavo/Dropbox/trabalho/career/current_sheets/dump065_jcs\"\n",
    "\n",
    "Jdata = np.loadtxt(Jfile)\n",
    "JJ_cs = np.reshape(Jdata, (int(N1), int(N2), int(N3)))"
   ]
  },
  {
   "cell_type": "code",
   "execution_count": null,
   "metadata": {},
   "outputs": [],
   "source": [
    "#cs, cb = plco(JJ_cs/np.max(JJ_cs), levels=np.linspace(0,1,100), isfilled=1, k=0, xy=1, xmax=10, ymax=5, dobh=1, cb=1, extend = \"both\", pretty=1, cmap = 'Blues')\n",
    "cs, cb = plco(Bphi, levels=np.linspace(-50,50), isfilled=1, k=0, xy=1, xmax=20, ymax=10, dobh=1, cb=1, extend = \"both\", pretty=1, cmap='RdBu')\n",
    "#cs, cb = plco(np.log10(JJ_cs), levels=np.linspace(-2,7,100), isfilled=1, k=0, xy=1, xmax=10, ymax=5, dobh=1, cb=1, extend = \"both\", pretty=1, cmap = 'Blues')\n",
    "ax = plt.gca()\n",
    "ax.set_xlabel(r\"$R\\ [r_g]$\",fontsize=20,labelpad=-5)\n",
    "ax.set_ylabel(r\"$z\\ [r_g]$\",fontsize=20,labelpad=-5)\n",
    "cb.ax.set_xlabel(r\"$B_\\phi(G)$\",fontsize=20,ha=\"left\")\n",
    "cb.set_ticks([-50,-25,0,25,50])\n",
    "plt.xticks(np.arange(0, 21, step = 5))\n",
    "plt.yticks(np.arange(-10, 11, step = 5))\n",
    "circle1 = plt.Circle((0, 0), Rin, color = 'black')\n",
    "\n",
    "#plot(rgx[yc]-0.35, rgy[xc], color='orange', marker = 'o', markersize = 1.5)\n",
    "#plot([rgx[ym], rgx[yp]], [rgy[xm], rgy[xp]], color='yellow', linestyle='-', linewidth=0.5)\n",
    "#plot([rgx[ym]-0.35, rgx[yp]-0.35], [rgy[xm], rgy[xp]], color='yellow', linestyle='-', linewidth=0.5)\n",
    "\n",
    "fig = plt.gcf()\n",
    "ax2 = fig.gca()\n",
    "ax2.add_artist(circle1)\n",
    "plt.title(r\"$t=%.5g$\"%np.round(t)+r\"$\\;r_g/c$\")\n",
    "plt.tight_layout()\n",
    "plt.savefig(\"Bphi_t0650.png\", format = \"png\", dpi = 300)\n",
    "#plt.clf"
   ]
  },
  {
   "cell_type": "code",
   "execution_count": null,
   "metadata": {
    "scrolled": true
   },
   "outputs": [],
   "source": [
    "#cs, cb = plco(JJ_cs/np.max(JJ_cs), levels=np.linspace(0,1,100), isfilled=1, k=0, xy=1, xmax=10, ymax=5, dobh=1, cb=1, extend = \"both\", pretty=1, cmap = 'Blues')\n",
    "cs, cb = plco(JJ_cs, levels=np.linspace(0,10e-2,100), ticks=[0, 0.05, 0.1], isfilled=1, k=0, xy=1, xmax=20, ymax=10, dobh=1, cb=1, extend = \"both\", pretty=1, cmap = 'Blues')\n",
    "#cs, cb = plco(np.log10(JJ_cs), levels=np.linspace(-2,7,100), isfilled=1, k=0, xy=1, xmax=10, ymax=5, dobh=1, cb=1, extend = \"both\", pretty=1, cmap = 'Blues')\n",
    "ax = plt.gca()\n",
    "ax.set_xlabel(r\"$R\\ [r_g]$\",fontsize=20,labelpad=-5)\n",
    "ax.set_ylabel(r\"$z\\ [r_g]$\",fontsize=20,labelpad=-5)\n",
    "#cb.ax.set_xlabel(r\"$j_{\\mu}/j_{\\mu}^{\\mathrm{max}}$\",fontsize=20,ha=\"left\")\n",
    "cb.set_ticks([0,0.02,0.04,0.06,0.08,0.1])\n",
    "cb.ax.set_ylabel(\"Current density\",fontsize=20, labelpad=1, y=0.5)\n",
    "plt.xticks(np.arange(0, 21, step = 5))\n",
    "plt.yticks(np.arange(-10, 11, step = 5))\n",
    "circle1 = plt.Circle((0, 0), Rin, color = 'black')\n",
    "\n",
    "#plot(rgx[yc]-0.35, rgy[xc], color='orange', marker = 'o', markersize = 1.5)\n",
    "\n",
    "fig = plt.gcf()\n",
    "ax2 = fig.gca()\n",
    "ax2.add_artist(circle1)\n",
    "plt.title(r\"$t=%.5g$\"%np.round(t)+r\"$\\;r_g/c$\")\n",
    "plt.tight_layout()\n",
    "plt.savefig(\"sheets_t0650.png\", format = \"png\", dpi = 300)\n",
    "#plt.clf"
   ]
  },
  {
   "cell_type": "code",
   "execution_count": null,
   "metadata": {},
   "outputs": [],
   "source": [
    "JJ_cs2 = JJ_cs\n",
    "JJ_cs2[JJ_cs2 > 0] = 1"
   ]
  },
  {
   "cell_type": "code",
   "execution_count": null,
   "metadata": {},
   "outputs": [],
   "source": [
    "JJ_cs2.shape"
   ]
  },
  {
   "cell_type": "code",
   "execution_count": null,
   "metadata": {},
   "outputs": [],
   "source": [
    "r[:,0,0]"
   ]
  },
  {
   "cell_type": "code",
   "execution_count": null,
   "metadata": {},
   "outputs": [],
   "source": [
    "#cs, cb = plco(JJ_cs/np.max(JJ_cs), levels=np.linspace(0,1,100), isfilled=1, k=0, xy=1, xmax=10, ymax=5, dobh=1, cb=1, extend = \"both\", pretty=1, cmap = 'Blues')\n",
    "cs = plco(JJJ, levels=np.linspace(0,0.1,100), isfilled=1, k=0, xy=1, xmax=10, ymax=10, dobh=1, cb=0, extend = \"both\", pretty=1, cmap = 'Blues')\n",
    "plt.contourf(JJ_cs2[:,:,0], color ='yellow')\n",
    "#cs2 = plco(JJ_cs2, color='yellow')\n",
    "ax = plt.gca()\n",
    "ax.set_xlabel(r\"$R\\ [r_g]$\",fontsize=20,labelpad=-5)\n",
    "ax.set_ylabel(r\"$z\\ [r_g]$\",fontsize=20,labelpad=-5)\n",
    "#cb.ax.set_xlabel(r\"$j_{\\mu}/j_{\\mu}^{\\mathrm{max}}$\",fontsize=20,ha=\"left\")\n",
    "cb.set_ticks([0,0.02,0.04,0.06,0.08,0.1])\n",
    "cb.ax.set_ylabel(\"Current density\",fontsize=20, labelpad=1, y=0.5)\n",
    "plt.xticks(np.arange(0, 11, step = 2))\n",
    "plt.yticks(np.arange(0, 11, step = 2))\n",
    "plt.xlim(0,10)\n",
    "plt.ylim(0,10)\n",
    "circle1 = plt.Circle((0, 0), Rin, color = 'black')\n",
    "\n",
    "#plot(rgx[yc]-0.35, rgy[xc], color='orange', marker = 'o', markersize = 1.5)\n",
    "\n",
    "fig = plt.gcf()\n",
    "ax2 = fig.gca()\n",
    "ax2.add_artist(circle1)\n",
    "plt.title(r\"$t=%.5g$\"%np.round(t)+r\"$\\;r_g/c$\")\n",
    "plt.tight_layout()\n",
    "#plt.savefig(\"current.png\", format = \"png\", dpi = 300)\n",
    "#plt.clf"
   ]
  },
  {
   "cell_type": "markdown",
   "metadata": {},
   "source": [
    "## SANDBOX"
   ]
  },
  {
   "cell_type": "markdown",
   "metadata": {},
   "source": [
    "Plotting, old way"
   ]
  },
  {
   "cell_type": "code",
   "execution_count": null,
   "metadata": {},
   "outputs": [],
   "source": [
    "    \n",
    "    \"\"\"\n",
    "    # plot profiles\n",
    "    fig, ax1 = plt.subplots()\n",
    "    rcParams['font.family'] = 'sans-serif'\n",
    "    rcParams['font.sans-serif'] = ['Helvetica']\n",
    "    color = 'tab:blue'\n",
    "    ax1.set_xlabel('dist')\n",
    "    ax1.set_ylabel(r'$b_\\phi\\;(G)$', color=color)\n",
    "    ax1.plot(bplot, color=color)\n",
    "    ax1.tick_params(axis='y', labelcolor=color)\n",
    "    ax2 = ax1.twinx()  # instantiate a second axes that shares the same x-axis\n",
    "    color = 'tab:red'\n",
    "    ax2.set_ylabel('Current density', color=color)  # we already handled the x-label with ax1\n",
    "    ax2.plot(jplot, color=color)\n",
    "    ax2.tick_params(axis='y', labelcolor=color)\n",
    "    fig.tight_layout()  # otherwise the right y-label is slightly clipped\n",
    "    plt.savefig(\"/home/gustavo/profiles/prof/%d_%d_%d.png\" %(j, i, k), dpi = 200)\n",
    "    plt.close()\n",
    "    \n",
    "    # plot snapshots\n",
    "    myvar = n_bu3*B_unit\n",
    "    plt.pcolormesh(rgx,rgy,myvar, cmap='RdBu', vmin=-25.0, vmax=25.0)\n",
    "    rcParams['font.family'] = 'sans-serif'\n",
    "    rcParams['font.sans-serif'] = ['Helvetica']\n",
    "    ax = plt.gca()\n",
    "    ax.set_xlabel(r\"$R\\ [r_g]$\",fontsize=20,labelpad=-5)\n",
    "    ax.set_ylabel(r\"$z\\ [r_g]$\",fontsize=20,labelpad=-5)\n",
    "    plt.xticks(np.arange(0, 21, step=5))\n",
    "    plt.yticks(np.arange(-10, 11, step=5))\n",
    "    plt.xlim(0,20)\n",
    "    plt.ylim(-10,10)\n",
    "    fig = plt.gcf()\n",
    "    plot([rgx[ym], rgx[yp]], [rgy[xm], rgy[xp]], color='yellow', linestyle='-', linewidth=0.5)\n",
    "    plot([rgx[yc]], [rgy[xc]], color='orange', marker = 'o', markersize = 0.5)\n",
    "    cbar = plt.colorbar()\n",
    "    cbar.ax.set_xlabel(r\"$b_\\phi$\",fontsize=25,ha=\"left\")\n",
    "    #generate ellipse object\n",
    "    #import the Ellipse function\n",
    "    from matplotlib.patches import Ellipse\n",
    "    #create Ellipse \"actor\"\n",
    "    el = Ellipse((0,0), #origin of ellipse\n",
    "        2*rhor, 2*rhor, #major axes of ellipse\n",
    "        facecolor='black', #color of ellipse\n",
    "        alpha=1) #opacity of ellipse\n",
    "    ax=plt.gca() #get current axes\n",
    "    art=ax.add_artist(el) #show object in axes\n",
    "    art.set_zorder(20) #bring ellipse to front\n",
    "    plt.draw() #make sure it's drawn\n",
    "    fig.tight_layout()\n",
    "    plt.savefig(\"/home/gustavo/profiles/prof_bphi/%d_%d_%d.png\" %(j, i, k), dpi = 250)\n",
    "    plt.close()\n",
    "\"\"\"\n",
    "    #plt.imshow(n_bu3*B_unit)\n",
    "    #plot([xm, xp], [ym, yp], color='yellow', linestyle='-', linewidth=0.5)\n",
    "    #plot([xc], [yc], color='orange', marker = 'o', markersize = 0.5)\n",
    "    #plt.savefig(\"/home/gustavo/profiles/prof_bphi/%d_%d_%d.png\" %(i, j, k), dpi = 200)\n",
    "    #plt.close()\n",
    "    \"\"\"\n",
    "    cs, cb = plco(n_bu3*B_unit, levels = np.linspace(-25, 25, 100), isfilled=1, k=0, xy=1, xmax=20, ymax=10, dobh=1, cb=1, extend = \"both\", pretty=1, cmap = 'RdBu')\n",
    "    ax = plt.gca()\n",
    "    ax.set_xlabel(r\"$R\\ [r_g]$\",fontsize=20,labelpad=-5)\n",
    "    ax.set_ylabel(r\"$z\\ [r_g]$\",fontsize=20,labelpad=-5)\n",
    "    cb.ax.set_xlabel(r\"$b_\\phi$\",fontsize=20,ha=\"left\")\n",
    "    plt.xticks(np.arange(0, 21, step=2))\n",
    "    fig = plt.gcf()\n",
    "    plot([xm, xp], [ym, yp], color='yellow', linestyle='-', linewidth=0.5)\n",
    "    plot([xc], [yc], color='orange', marker = 'o', markersize = 0.5)\n",
    "            \n",
    "    #plt.plot([ym, yp], [xm, xp], color='yellow', linestyle='-', linewidth=0.5)\n",
    "    #plt.plot([yc], [xc], color='orange', marker='o', markersize=0.5)\n",
    "            \n",
    "    plt.title(r\"$t = %.5g\\;GM/c^3$\"%np.round(t))\n",
    "    plt.tight_layout()\n",
    "    plt.savefig(\"/home/gustavo/profiles/prof_bphi/%d_%d_%d.png\" %(i, j, k), dpi = 200)\n",
    "    plt.close()  \n",
    "    \"\"\"\n",
    "    #plt.imshow(n_bu3, origin='lower', cmap='RdBu', vmin=-0.02, vmax=0.02)\n",
    "    #plt.imshow(myvar, origin='lower', cmap='RdBu', vmin=-25.0, vmax=25.0, extent=[-myvar.shape[1]/2., myvar.shape[1]/2., -myvar.shape[0]/2., myvar.shape[0]/2.])\n",
    "    #plt.imshow(myvar, origin='lower', cmap='RdBu', vmin=-25.0, vmax=25.0, interpolation = 'none', extent=[0,myvar.shape[1], -myvar.shape[0]/2., myvar.shape[0]/2.])"
   ]
  },
  {
   "cell_type": "code",
   "execution_count": null,
   "metadata": {},
   "outputs": [],
   "source": [
    "\"\"\"   \n",
    "k = 0\n",
    "\n",
    "#for i in range(LIMIT, nx_new-LIMIT, 1):\n",
    "#for i in range(1498, nx_new-LIMIT, 1):\n",
    "for i in range(1487, 1493, 1):\n",
    "    #for j in range(LIMIT, ny_new-LIMIT, 1):\n",
    "    for j in range(LIMIT, 290-LIMIT, 1):\n",
    "\n",
    "        xc = i#r[i][j] * np.sin(h[i][j])\n",
    "        yc = j#r[i][j] * np.cos(h[i][j])\n",
    "\n",
    "        if((n_JJcs[i][j] != 0) and (np.abs(n_bphi[i][j]) < 10*Bu3_THR)):\n",
    "            # get box limits\n",
    "            ibox_min = i - LIMIT\n",
    "            jbox_min = j - LIMIT\n",
    "            ibox_max = i + LIMIT\n",
    "            jbox_max = j + LIMIT\n",
    "            \n",
    "            # check within box\n",
    "            nbox = 0\n",
    "            theta = 0\n",
    "            for ibox in range(ibox_min, ibox_max+1, 1):\n",
    "                for jbox in range(jbox_min, jbox_max+1, 1):\n",
    "                    \n",
    "                    # make sure we are not applying this to our central point (i,j)\n",
    "                    if ((i == ibox) and (j == jbox)):\n",
    "                        continue\n",
    "                    \n",
    "                    # check if point belongs to sheet\n",
    "                    if((n_JJcs[i][j] != 0) and (np.abs(n_bphi[i][j]) < 10*Bu3_THR)):\n",
    "                        # get angle\n",
    "                        nbox += 1\n",
    "                        if (i == ibox):\n",
    "                            theta += 0\n",
    "                        else:\n",
    "                            theta += np.abs(np.arctan((jbox - j)/(ibox - i)))\n",
    "                                                    \n",
    "            # once we finish the box, we get the average slope\n",
    "            theta = theta/nbox\n",
    "            slope = np.tan(theta)\n",
    "            normal = -1./slope\n",
    "            intercept = get_intercept(i, j, normal)\n",
    "\n",
    "            alongplus(i, j, n_bphi, normal, intercept, dist_increase, thr)\n",
    "            alongminus(i, j, n_bphi, normal, intercept, dist_increase, thr)\n",
    "\n",
    "            print(\"xm,ym,xp,yp,slope,intercept\")\n",
    "            print(xm,ym,xp,yp,slope,intercept)\n",
    "            \n",
    "            bp_arr = np.asarray(bp_arr)\n",
    "            bm_arr = np.asarray(bm_arr)\n",
    "            jp_arr = np.asarray(jp_arr)\n",
    "            jm_arr = np.asarray(jm_arr)\n",
    "\n",
    "            # flip m array so we can have a continuous array with p and m quantities\n",
    "            bm_arr = np.flip(bm_arr, 0)\n",
    "            jm_arr = np.flip(jm_arr, 0)\n",
    "            bplot = np.append(bm_arr, bp_arr)\n",
    "            jplot = np.append(jm_arr, jp_arr)\n",
    "\n",
    "            # normalize jplot\n",
    "            jplot = jplot/np.max(jplot)\n",
    "\n",
    "            # plot profiles\n",
    "            fig, ax1 = plt.subplots()\n",
    "            rcParams['font.family'] = 'sans-serif'\n",
    "            rcParams['font.sans-serif'] = ['Helvetica']\n",
    "            color = 'tab:blue'\n",
    "            ax1.set_xlabel('dist')\n",
    "            ax1.set_ylabel(r'$b_\\phi\\;(G)$', color=color)\n",
    "            ax1.plot(bplot, color=color)\n",
    "            ax1.tick_params(axis='y', labelcolor=color)\n",
    "            ax2 = ax1.twinx()  # instantiate a second axes that shares the same x-axis\n",
    "            color = 'tab:red'\n",
    "            ax2.set_ylabel('Current density', color=color)  # we already handled the x-label with ax1\n",
    "            ax2.plot(jplot, color=color)\n",
    "            ax2.tick_params(axis='y', labelcolor=color)\n",
    "            #plt.axvline(x=15, color = 'black', linestyle = ':', linewidth = 1)\n",
    "            fig.tight_layout()  # otherwise the right y-label is slightly clipped\n",
    "            plt.savefig(\"/home/gustavo/profiles/prof/%d_%d_%d.png\" %(j, i, k), dpi = 200)\n",
    "            plt.close()\n",
    "    \n",
    "            # plot snapshots\n",
    "            myvar = n_bu3*B_unit\n",
    "            plt.pcolormesh(rgx,rgy,myvar, cmap='RdBu', vmin=-25.0, vmax=25.0)\n",
    "            rcParams['font.family'] = 'sans-serif'\n",
    "            rcParams['font.sans-serif'] = ['Helvetica']\n",
    "            ax = plt.gca()\n",
    "            ax.set_xlabel(r\"$R\\ [r_g]$\",fontsize=20,labelpad=-5)\n",
    "            ax.set_ylabel(r\"$z\\ [r_g]$\",fontsize=20,labelpad=-5)\n",
    "            plt.xticks(np.arange(0, 21, step=5))\n",
    "            plt.yticks(np.arange(-10, 11, step=5))\n",
    "            plt.xlim(0,20)\n",
    "            plt.ylim(-10,10)\n",
    "            fig = plt.gcf()\n",
    "            plot([rgx[ym], rgx[yp]], [rgy[xm], rgy[xp]], color='yellow', linestyle='-', linewidth=0.5)\n",
    "            plot([rgx[yc]], [rgy[xc]], color='orange', marker = 'o', markersize = 0.5)\n",
    "            cbar = plt.colorbar()\n",
    "            cbar.ax.set_xlabel(r\"$b_\\phi$\",fontsize=25,ha=\"left\")\n",
    "            #generate ellipse object\n",
    "            #import the Ellipse function\n",
    "            from matplotlib.patches import Ellipse\n",
    "            #create Ellipse \"actor\"\n",
    "            el = Ellipse((0,0), #origin of ellipse\n",
    "                2*rhor, 2*rhor, #major axes of ellipse\n",
    "                facecolor='black', #color of ellipse\n",
    "                alpha=1) #opacity of ellipse\n",
    "            ax=plt.gca() #get current axes\n",
    "            art=ax.add_artist(el) #show object in axes\n",
    "            art.set_zorder(20) #bring ellipse to front\n",
    "            plt.draw() #make sure it's drawn\n",
    "            fig.tight_layout()\n",
    "            plt.savefig(\"/home/gustavo/profiles/prof_bphi/%d_%d_%d.png\" %(j, i, k), dpi = 250)\n",
    "            plt.close()\n",
    "\n",
    " \"\"\"\n",
    "    #plt.imshow(n_bu3*B_unit)\n",
    "    #plot([xm, xp], [ym, yp], color='yellow', linestyle='-', linewidth=0.5)\n",
    "    #plot([xc], [yc], color='orange', marker = 'o', markersize = 0.5)\n",
    "    #plt.savefig(\"/home/gustavo/profiles/prof_bphi/%d_%d_%d.png\" %(i, j, k), dpi = 200)\n",
    "    #plt.close()\n",
    "    \"\"\"\n",
    "    cs, cb = plco(n_bu3*B_unit, levels = np.linspace(-25, 25, 100), isfilled=1, k=0, xy=1, xmax=20, ymax=10, dobh=1, cb=1, extend = \"both\", pretty=1, cmap = 'RdBu')\n",
    "    ax = plt.gca()\n",
    "    ax.set_xlabel(r\"$R\\ [r_g]$\",fontsize=20,labelpad=-5)\n",
    "    ax.set_ylabel(r\"$z\\ [r_g]$\",fontsize=20,labelpad=-5)\n",
    "    cb.ax.set_xlabel(r\"$b_\\phi$\",fontsize=20,ha=\"left\")\n",
    "    plt.xticks(np.arange(0, 21, step=2))\n",
    "    fig = plt.gcf()\n",
    "    plot([xm, xp], [ym, yp], color='yellow', linestyle='-', linewidth=0.5)\n",
    "    plot([xc], [yc], color='orange', marker = 'o', markersize = 0.5)\n",
    "            \n",
    "    #plt.plot([ym, yp], [xm, xp], color='yellow', linestyle='-', linewidth=0.5)\n",
    "    #plt.plot([yc], [xc], color='orange', marker='o', markersize=0.5)\n",
    "            \n",
    "    plt.title(r\"$t = %.5g\\;GM/c^3$\"%np.round(t))\n",
    "    plt.tight_layout()\n",
    "    plt.savefig(\"/home/gustavo/profiles/prof_bphi/%d_%d_%d.png\" %(i, j, k), dpi = 200)\n",
    "    plt.close()  \n",
    "    \"\"\"\n",
    "    \n",
    "            \n",
    "            \n",
    "\"\"\"\n",
    "            cs, cb = plco(bu[3]*B_unit, levels = np.linspace(-25, 25, 100), isfilled=1, k=0, xy=1, xmax=20, ymax=10, dobh=1, cb=1, extend = \"both\", pretty=1, cmap = 'RdBu')\n",
    "            ax = plt.gca()\n",
    "            ax.set_xlabel(r\"$R\\ [r_g]$\",fontsize=20,labelpad=-5)\n",
    "            ax.set_ylabel(r\"$z\\ [r_g]$\",fontsize=20,labelpad=-5)\n",
    "            cb.ax.set_xlabel(r\"$b_\\phi$\",fontsize=20,ha=\"left\")\n",
    "            plt.xticks(np.arange(0, 21, step=2))\n",
    "            fig = plt.gcf()\n",
    "            plot([xm, xp], [ym, yp], color='yellow', linestyle='-', linewidth=0.5)\n",
    "            plot([xc], [yc], color='orange', marker = 'o', markersize = 0.5)\n",
    "            \n",
    "            #plt.plot([ym, yp], [xm, xp], color='yellow', linestyle='-', linewidth=0.5)\n",
    "            #plt.plot([yc], [xc], color='orange', marker='o', markersize=0.5)\n",
    "            \n",
    "            plt.title(r\"$t = %.5g\\;GM/c^3$\"%np.round(t))\n",
    "            plt.tight_layout()\n",
    "            plt.savefig(\"/home/gustavo/profiles/prof_bphi/%d_%d_%d.png\" %(i, j, k), dpi = 150)\n",
    "            plt.close()           \n",
    "\"\"\"\n",
    "            \n",
    "            \n"
   ]
  },
  {
   "cell_type": "code",
   "execution_count": 92,
   "metadata": {},
   "outputs": [
    {
     "ename": "ValueError",
     "evalue": "could not convert string to float: '0.000166.1'",
     "output_type": "error",
     "traceback": [
      "\u001b[0;31m---------------------------------------------------------------------------\u001b[0m",
      "\u001b[0;31mValueError\u001b[0m                                Traceback (most recent call last)",
      "\u001b[0;32m~/work/gyst/harm_script2.py\u001b[0m in \u001b[0;36m<module>\u001b[0;34m\u001b[0m\n\u001b[1;32m      8\u001b[0m \u001b[0mmyBphi\u001b[0m \u001b[0;34m=\u001b[0m \u001b[0mfloat\u001b[0m\u001b[0;34m(\u001b[0m\u001b[0mheader\u001b[0m\u001b[0;34m[\u001b[0m\u001b[0;36m2\u001b[0m\u001b[0;34m]\u001b[0m\u001b[0;34m)\u001b[0m\u001b[0;34m\u001b[0m\u001b[0;34m\u001b[0m\u001b[0m\n\u001b[1;32m      9\u001b[0m \u001b[0mmybeta\u001b[0m \u001b[0;34m=\u001b[0m \u001b[0mfloat\u001b[0m\u001b[0;34m(\u001b[0m\u001b[0mheader\u001b[0m\u001b[0;34m[\u001b[0m\u001b[0;36m3\u001b[0m\u001b[0;34m]\u001b[0m\u001b[0;34m)\u001b[0m\u001b[0;34m\u001b[0m\u001b[0;34m\u001b[0m\u001b[0m\n\u001b[0;32m---> 10\u001b[0;31m \u001b[0mmysigma\u001b[0m \u001b[0;34m=\u001b[0m \u001b[0mfloat\u001b[0m\u001b[0;34m(\u001b[0m\u001b[0mheader\u001b[0m\u001b[0;34m[\u001b[0m\u001b[0;36m4\u001b[0m\u001b[0;34m]\u001b[0m\u001b[0;34m)\u001b[0m\u001b[0;34m\u001b[0m\u001b[0;34m\u001b[0m\u001b[0m\n\u001b[0m\u001b[1;32m     11\u001b[0m \u001b[0;34m\u001b[0m\u001b[0m\n\u001b[1;32m     12\u001b[0m \u001b[0mtabledata\u001b[0m \u001b[0;34m=\u001b[0m \u001b[0mmydata\u001b[0m\u001b[0;34m\u001b[0m\u001b[0;34m\u001b[0m\u001b[0m\n",
      "\u001b[0;31mValueError\u001b[0m: could not convert string to float: '0.000166.1'"
     ]
    }
   ],
   "source": [
    "myfilename = \"/home/gustavo/work/gyst/sheets/dump400_406_203_0_s\"\n",
    "myfile = open(myfilename, \"r\")\n",
    "mydata = pd.read_csv(myfilename, sep='\\t', header=0)\n",
    "                \n",
    "header = mydata.columns\n",
    "myBr = float(header[0])\n",
    "myBth = float(header[1])\n",
    "myBphi = float(header[2])\n",
    "mybeta = float(header[3])\n",
    "mysigma = float(header[4])\n",
    "               \n",
    "tabledata = mydata\n",
    "mydata = mydata.values\n",
    "mydata = np.transpose(mydata)\n",
    "myB = mydata[0]*B_unit\n",
    "myJ = mydata[1]\n",
    "\n",
    "fig, ax1 = plt.subplots()\n",
    "rcParams['font.family'] = 'sans-serif'\n",
    "rcParams['font.sans-serif'] = ['Helvetica']\n",
    "color = 'tab:blue'\n",
    "ax1.set_xlabel('dist')\n",
    "ax1.set_ylabel(r'$B_\\phi\\;(G)$', color=color)\n",
    "ax1.plot(myB, color=color)\n",
    "ax1.tick_params(axis='y', labelcolor=color)\n",
    "\n",
    "ax2 = ax1.twinx()  # instantiate a second axes that shares the same x-axis\n",
    "color = 'tab:red'\n",
    "ax2.set_ylabel('Current density', color=color)  # we already handled the x-label with ax1\n",
    "ax2.plot(myJ, color=color)\n",
    "ax2.tick_params(axis='y', labelcolor=color)\n",
    "#plt.axvline(x=15, color = 'black', linestyle = ':', linewidth = 1)\n",
    "\n",
    "fig.tight_layout()  # otherwise the right y-label is slightly clipped\n",
    "plt.savefig(\"/home/gustavo/work/gyst/images/406_203_0.png\", dpi = 100)\n",
    "plt.close()"
   ]
  },
  {
   "cell_type": "code",
   "execution_count": 99,
   "metadata": {},
   "outputs": [
    {
     "name": "stdout",
     "output_type": "stream",
     "text": [
      "338 81 0\n",
      "355 106 0\n",
      "361 124 0\n",
      "364 120 0\n",
      "364 121 0\n",
      "364 122 0\n",
      "365 102 0\n",
      "365 121 0\n",
      "366 118 0\n",
      "372 115 0\n",
      "388 209 0\n",
      "388 211 0\n",
      "388 218 0\n",
      "388 224 0\n",
      "389 118 0\n",
      "389 188 0\n",
      "389 189 0\n",
      "389 195 0\n",
      "389 196 0\n",
      "389 199 0\n",
      "389 205 0\n",
      "389 207 0\n",
      "389 208 0\n",
      "389 209 0\n",
      "389 210 0\n",
      "389 211 0\n",
      "390 186 0\n",
      "390 187 0\n",
      "390 188 0\n",
      "390 189 0\n",
      "390 194 0\n",
      "390 195 0\n",
      "390 196 0\n",
      "390 197 0\n",
      "390 198 0\n",
      "390 203 0\n",
      "390 204 0\n",
      "390 207 0\n",
      "390 208 0\n",
      "390 209 0\n",
      "390 210 0\n",
      "391 185 0\n",
      "391 186 0\n",
      "391 187 0\n",
      "391 188 0\n",
      "391 189 0\n",
      "391 194 0\n",
      "391 198 0\n",
      "392 119 0\n",
      "392 184 0\n",
      "392 185 0\n",
      "392 187 0\n",
      "392 188 0\n",
      "392 189 0\n",
      "392 191 0\n",
      "392 194 0\n",
      "393 116 0\n",
      "393 184 0\n",
      "393 185 0\n",
      "394 114 0\n",
      "394 118 0\n",
      "394 184 0\n",
      "395 183 0\n",
      "396 181 0\n",
      "396 183 0\n",
      "397 112 0\n",
      "397 182 0\n",
      "399 113 0\n",
      "400 112 0\n",
      "402 125 0\n",
      "403 118 0\n",
      "403 122 0\n",
      "403 123 0\n",
      "404 117 0\n",
      "405 116 0\n",
      "406 201 0\n",
      "406 203 0\n"
     ]
    },
    {
     "ename": "ValueError",
     "evalue": "could not convert string to float: '0.000166.1'",
     "output_type": "error",
     "traceback": [
      "\u001b[0;31m---------------------------------------------------------------------------\u001b[0m",
      "\u001b[0;31mValueError\u001b[0m                                Traceback (most recent call last)",
      "\u001b[0;32m~/work/gyst/harm_script2.py\u001b[0m in \u001b[0;36m<module>\u001b[0;34m\u001b[0m\n\u001b[1;32m     13\u001b[0m                 \u001b[0mmyBphi\u001b[0m \u001b[0;34m=\u001b[0m \u001b[0mfloat\u001b[0m\u001b[0;34m(\u001b[0m\u001b[0mheader\u001b[0m\u001b[0;34m[\u001b[0m\u001b[0;36m2\u001b[0m\u001b[0;34m]\u001b[0m\u001b[0;34m)\u001b[0m\u001b[0;34m\u001b[0m\u001b[0;34m\u001b[0m\u001b[0m\n\u001b[1;32m     14\u001b[0m                 \u001b[0mmybeta\u001b[0m \u001b[0;34m=\u001b[0m \u001b[0mfloat\u001b[0m\u001b[0;34m(\u001b[0m\u001b[0mheader\u001b[0m\u001b[0;34m[\u001b[0m\u001b[0;36m3\u001b[0m\u001b[0;34m]\u001b[0m\u001b[0;34m)\u001b[0m\u001b[0;34m\u001b[0m\u001b[0;34m\u001b[0m\u001b[0m\n\u001b[0;32m---> 15\u001b[0;31m                 \u001b[0mmysigma\u001b[0m \u001b[0;34m=\u001b[0m \u001b[0mfloat\u001b[0m\u001b[0;34m(\u001b[0m\u001b[0mheader\u001b[0m\u001b[0;34m[\u001b[0m\u001b[0;36m4\u001b[0m\u001b[0;34m]\u001b[0m\u001b[0;34m)\u001b[0m\u001b[0;34m\u001b[0m\u001b[0;34m\u001b[0m\u001b[0m\n\u001b[0m\u001b[1;32m     16\u001b[0m \u001b[0;34m\u001b[0m\u001b[0m\n\u001b[1;32m     17\u001b[0m                 \u001b[0mtabledata\u001b[0m \u001b[0;34m=\u001b[0m \u001b[0mmydata\u001b[0m\u001b[0;34m\u001b[0m\u001b[0;34m\u001b[0m\u001b[0m\n",
      "\u001b[0;31mValueError\u001b[0m: could not convert string to float: '0.000166.1'"
     ]
    }
   ],
   "source": [
    "for i in range(0,N1):\n",
    "    for j in range(0,N2):\n",
    "        for k in range(0,N3):\n",
    "            myfilename = \"/home/gustavo/work/gyst/sheets/dump400_%d_%d_%d_s\" %(i,j,k)\n",
    "            if (os.path.isfile(myfilename)):\n",
    "                #print(i, j, k)\n",
    "                myfile = open(myfilename, \"r\")\n",
    "                mydata = pd.read_csv(myfilename, sep='\\t', header=0)\n",
    "                \n",
    "                header = mydata.columns\n",
    "                myBr = float(header[0])\n",
    "                myBth = float(header[1])\n",
    "                myBphi = float(header[2])\n",
    "                mybeta = float(header[3])\n",
    "                mysigma = float(header[4])\n",
    "                \n",
    "                tabledata = mydata\n",
    "                mydata = mydata.values\n",
    "                mydata = np.transpose(mydata)\n",
    "                myB = mydata[0]\n",
    "                myJ = mydata[1]\n",
    "                \n",
    "                myfile.close()\n",
    "                \n",
    "                fig, ax1 = plt.subplots()\n",
    "                rcParams['font.family'] = 'sans-serif'\n",
    "                rcParams['font.sans-serif'] = ['Helvetica']\n",
    "                color = 'tab:blue'\n",
    "                ax1.set_xlabel('dist')\n",
    "                ax1.set_ylabel(r'$B_\\phi\\;(G)$', color=color)\n",
    "                ax1.plot(myB, color=color)\n",
    "                ax1.tick_params(axis='y', labelcolor=color)\n",
    "\n",
    "                ax2 = ax1.twinx()  # instantiate a second axes that shares the same x-axis\n",
    "                color = 'tab:red'\n",
    "                ax2.set_ylabel('Current density', color=color)  # we already handled the x-label with ax1\n",
    "                ax2.plot(myJ, color=color)\n",
    "                ax2.tick_params(axis='y', labelcolor=color)\n",
    "                #plt.axvline(x=15, color = 'black', linestyle = ':', linewidth = 1)\n",
    "\n",
    "                fig.tight_layout()  # otherwise the right y-label is slightly clipped\n",
    "                plt.savefig(\"/home/gustavo/work/gyst/images/dump400_%d_%d_%d_p.png\" %(i, j, k), dpi = 100)\n",
    "                plt.close()\n"
   ]
  },
  {
   "cell_type": "code",
   "execution_count": null,
   "metadata": {},
   "outputs": [
    {
     "name": "stderr",
     "output_type": "stream",
     "text": [
      "findfont: Font family ['sans-serif'] not found. Falling back to DejaVu Sans.\n"
     ]
    }
   ],
   "source": [
    "for i in range(0,N1):\n",
    "    for j in range(0,N2):\n",
    "        for k in range(0,N3):\n",
    "            myfilename = \"/home/gustavo/work/gyst/sheets/dump400_%d_%d_%d_s\" %(i,j,k)\n",
    "            if (os.path.isfile(myfilename)):\n",
    "                #print(i, j, k)\n",
    "                myfile = open(myfilename, \"r\")\n",
    "                \n",
    "                headerline = myfile.readline()\n",
    "                header = headerline.split()\n",
    "                nheadertot = len(header)\n",
    "                myfile.close()\n",
    "                \n",
    "                myBr = float(header[0])\n",
    "                myBth = float(header[1])\n",
    "                myBphi = float(header[2])\n",
    "                mybeta = float(header[3])\n",
    "                mysigma = float(header[4])\n",
    "                \n",
    "                mydata = pd.read_csv(myfilename, sep='\\t', header=0)\n",
    "                tabledata = mydata\n",
    "                mydata = mydata.values\n",
    "                mydata = np.transpose(mydata)\n",
    "                myB = mydata[0]\n",
    "                myJ = mydata[1]\n",
    "                \n",
    "                myfile.close()\n",
    "                \n",
    "                fig, ax1 = plt.subplots()\n",
    "                rcParams['font.family'] = 'sans-serif'\n",
    "                rcParams['font.sans-serif'] = ['Helvetica']\n",
    "                color = 'tab:blue'\n",
    "                ax1.set_xlabel('dist')\n",
    "                ax1.set_ylabel(r'$B_\\phi\\;(G)$', color=color)\n",
    "                ax1.plot(myB, color=color)\n",
    "                ax1.tick_params(axis='y', labelcolor=color)\n",
    "\n",
    "                ax2 = ax1.twinx()  # instantiate a second axes that shares the same x-axis\n",
    "                color = 'tab:red'\n",
    "                ax2.set_ylabel('Current density', color=color)  # we already handled the x-label with ax1\n",
    "                ax2.plot(myJ, color=color)\n",
    "                ax2.tick_params(axis='y', labelcolor=color)\n",
    "                #plt.axvline(x=15, color = 'black', linestyle = ':', linewidth = 1)\n",
    "\n",
    "                fig.tight_layout()  # otherwise the right y-label is slightly clipped\n",
    "                plt.savefig(\"/home/gustavo/work/gyst/images/dump400_%d_%d_%d_p.png\" %(i, j, k), dpi = 50)\n",
    "                plt.close()\n"
   ]
  },
  {
   "cell_type": "code",
   "execution_count": null,
   "metadata": {},
   "outputs": [],
   "source": [
    "\"\"\"\n",
    "\n",
    "-0.000022\t0.000049\t0.000052\t322.296735\t0.000026\n",
    "0.000000\t0.000000\n",
    "-0.000262\t0.001099\n",
    "0.000219\t0.000615\n",
    "0.000124\t0.002321\n",
    "-0.000254\t0.001097\n",
    "-0.000230\t0.001204\n",
    "0.000080\t0.000624\n",
    "0.000000\t0.000626\n",
    "\n",
    "upper 419 107 0 0.000197 0.001322\n",
    "upper 418 108 0 0.000080 0.000624\n",
    "upper 416 109 0 0.000029 0.000638\n",
    "start 415 110 0 0.000052 0.000731\n",
    "lower 413 110 0 -0.000050 0.000802\n",
    "lower 411 111 0 -0.000146 0.000714\n",
    "lower 409 112 0 -0.000230 0.000980\n",
    "lower 408 113 0 -0.000230 0.001204\n",
    "\n",
    "\"\"\""
   ]
  }
 ],
 "metadata": {
  "kernelspec": {
   "display_name": "Python 3",
   "language": "python",
   "name": "python3"
  },
  "language_info": {
   "codemirror_mode": {
    "name": "ipython",
    "version": 3
   },
   "file_extension": ".py",
   "mimetype": "text/x-python",
   "name": "python",
   "nbconvert_exporter": "python",
   "pygments_lexer": "ipython3",
   "version": "3.7.6"
  }
 },
 "nbformat": 4,
 "nbformat_minor": 2
}
