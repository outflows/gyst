{
 "cells": [
  {
   "cell_type": "markdown",
   "metadata": {},
   "source": [
    "# gyst (get your sheets together!) : energy and fluxes"
   ]
  },
  {
   "cell_type": "markdown",
   "metadata": {},
   "source": [
    "This notebook is part of gyst (get your sheets together!).\n",
    "\n",
    "Here, we get the energy, accretion rate, and magnetic fluxes from simulation data."
   ]
  },
  {
   "cell_type": "markdown",
   "metadata": {},
   "source": [
    "## 1) Setup"
   ]
  },
  {
   "cell_type": "code",
   "execution_count": 1,
   "metadata": {},
   "outputs": [
    {
     "name": "stdout",
     "output_type": "stream",
     "text": [
      "Populating the interactive namespace from numpy and matplotlib\n"
     ]
    }
   ],
   "source": [
    "%pylab inline"
   ]
  },
  {
   "cell_type": "code",
   "execution_count": 2,
   "metadata": {},
   "outputs": [],
   "source": [
    "import numpy as np\n",
    "import matplotlib.pyplot as plt\n",
    "import sys\n",
    "import argparse\n",
    "from scipy import interpolate\n",
    "import tqdm\n",
    "import nmmn.lsd, nmmn.misc\n",
    "import os.path\n",
    "import pandas as pd\n",
    "import astropy.visualization"
   ]
  },
  {
   "cell_type": "markdown",
   "metadata": {},
   "source": [
    "### 1.1) Get physical constants, definitions, and units"
   ]
  },
  {
   "cell_type": "code",
   "execution_count": 3,
   "metadata": {},
   "outputs": [],
   "source": [
    "# many are related to grmonty, but we can set a black hole mass if we want to have a \"feeling\" for the physical values\n",
    "\n",
    "global MP, ME, CL, GNEWT, KBOL, SIGMA_THOMSON, MSUN, LSUN, YEAR, MBH\n",
    "global TPTE_DISK, TPTE_JET, THETAE_MAX\n",
    "global M_unit, L_unit, T_unit, RHO_unit, U_unit, B_unit, Ne_unit\n",
    "\n",
    "# all constants in cgs units\n",
    "ME = 9.1093826e-28 # electron mass\n",
    "MP = 1.67262171e-24 # proton mass\n",
    "CL = 2.99792458e10 # speed of light\n",
    "GNEWT = 6.6742e-8 # gravitational constant\n",
    "KBOL = 1.3806505e-16 # Boltzmann constant\n",
    "SIGMA_THOMSON = 0.665245873e-24 # Thomson cross-section\n",
    "MSUN = 1.989e33 # solar mass\n",
    "LSUN = 3.827e33 # solar luminosity\n",
    "YEAR = 31536000 # seconds in a year\n",
    "\n",
    "# temperature and beta-prescription (Mościbrodzka 2016)\n",
    "TPTE_DISK = 20. # R_high\n",
    "TPTE_JET = 1. # R_low\n",
    "THETAE_MAX = 1000.\n",
    "TP_OVER_TE = 100.0\n",
    "\n",
    "sgra=1\n",
    "m87=0\n",
    "blazar=0\n",
    "# grmonty units and BH mass\n",
    "if (sgra):\n",
    "    MBH = 4.5e6 * MSUN\n",
    "    M_unit = 1.0e19\n",
    "elif (m87):\n",
    "    MBH = 6.2e9 * MSUN\n",
    "    M_unit = 1.0e29\n",
    "\n",
    "L_unit = GNEWT * MBH / (CL * CL)\n",
    "T_unit = L_unit / CL\n",
    "RHO_unit = M_unit / (L_unit*L_unit*L_unit)\n",
    "U_unit = RHO_unit * CL * CL\n",
    "B_unit = CL * np.sqrt(4. * np.pi * RHO_unit)\n",
    "Ne_unit = RHO_unit / (MP + ME)\n",
    "\n",
    "#MBH = 5.0e9 * MSUN\n",
    "#M_unit = 2.0*10e11"
   ]
  },
  {
   "cell_type": "code",
   "execution_count": 5,
   "metadata": {},
   "outputs": [],
   "source": [
    "%run -i harm_script2.py"
   ]
  },
  {
   "cell_type": "markdown",
   "metadata": {},
   "source": [
    "# 1) Get fluxes and energy from a single simulation"
   ]
  },
  {
   "cell_type": "markdown",
   "metadata": {},
   "source": [
    "### 1.1a) Get fluxes and save them to file"
   ]
  },
  {
   "cell_type": "markdown",
   "metadata": {},
   "source": [
    "If we don't have the fluxes, we have to run this first to obtain them."
   ]
  },
  {
   "cell_type": "code",
   "execution_count": null,
   "metadata": {},
   "outputs": [],
   "source": [
    "ts = []\n",
    "fs = []\n",
    "md = []\n",
    "#jem = []\n",
    "#jtot = []\n",
    "\n",
    "starti,endi=0,600\n",
    "for dumpno in range(starti,endi+1):\n",
    "    rd(\"dump%03d\" % dumpno);\n",
    "\n",
    "    rhor = 1+(1-a**2)**0.5\n",
    "    ihor = iofr(rhor)\n",
    "    #cvel()\n",
    "    Tcalcud()\n",
    "    ts.append(int(t)) #time\n",
    "    fs.append(horfluxcalc(ihor)) #horizon flux\n",
    "    md.append(mdotcalc(ihor)) #mass accretion rate\n",
    "    #jem.append(jetpowcalc(0)[ihor]) #jet power (EM)\n",
    "    #jtot.append(jetpowcalc(2)[ihor]) #jet power (total)\n",
    "    \n",
    "#write to file\n",
    "fluxes_file = open(\"fluxes.dat\",\"w+\")\n",
    "for line in range(len(ts)):\n",
    "    fluxes_file.write(str(ts[line]))\n",
    "    fluxes_file.write(\"\\t\")\n",
    "    fluxes_file.write(str(fs[line]))\n",
    "    fluxes_file.write(\"\\t\")\n",
    "    fluxes_file.write(str(md[line]))\n",
    "    fluxes_file.write(\"\\n\")\n",
    "fluxes_file.close()"
   ]
  },
  {
   "cell_type": "markdown",
   "metadata": {},
   "source": [
    "### 1.1b) Read fluxes from file"
   ]
  },
  {
   "cell_type": "markdown",
   "metadata": {},
   "source": [
    "Alternatively, if we already have the fluxes, we can read them directly from a file."
   ]
  },
  {
   "cell_type": "code",
   "execution_count": null,
   "metadata": {},
   "outputs": [],
   "source": [
    "myfilename = \"/work/gustavo/gyst/Be105_smallSANE/fluxes.dat\"\n",
    "myfile = open(myfilename, \"r\")\n",
    "mydata = pd.read_csv(myfilename, header=None, sep='\\t')\n",
    "\n",
    "ts = mydata[0]\n",
    "fs = mydata[1]\n",
    "md = mydata[2]"
   ]
  },
  {
   "cell_type": "markdown",
   "metadata": {},
   "source": [
    "### 1.2) Transform fluxes into arrays and get the correct units"
   ]
  },
  {
   "cell_type": "code",
   "execution_count": null,
   "metadata": {},
   "outputs": [],
   "source": [
    "fs = np.array(fs)\n",
    "fs_units = fs*B_unit*L_unit*L_unit\n",
    "md = np.array(md)\n",
    "md_units = md*M_unit/T_unit\n",
    "phiflux = fs/np.sqrt(md)\n",
    "phiflux = np.array(phiflux)"
   ]
  },
  {
   "cell_type": "markdown",
   "metadata": {},
   "source": [
    "### 1.3) Plot fluxes"
   ]
  },
  {
   "cell_type": "code",
   "execution_count": null,
   "metadata": {},
   "outputs": [],
   "source": [
    "fontsize=13\n",
    "latexsize=18\n",
    "myfigname = \"fluxes_2D_MAD52.png\"\n",
    "\n",
    "hfont = {'fontname':'Helvetica'}\n",
    "fig = plt.figure(figsize=[6.4, 8.4])\n",
    "#fig = plt.figure(figsize=[12.8, 14.4])\n",
    "gs = GridSpec(3,1)\n",
    "\n",
    "ax1 = plt.subplot(gs[0,0])\n",
    "ax1.plot(ts,fs_units*10**-25,color=\"black\")\n",
    "_, max_ = plt.ylim()\n",
    "#plt.xlim(2000,7000)\n",
    "plt.xticks([0, 1000, 2000,3000, 4000, 5000, 6000],fontsize=fontsize)\n",
    "#plt.yticks([0,0.5,1.0,1.5,2.0],fontsize=fontsize)\n",
    "plt.yticks([0,2.5,5.0,7.5,10.0],fontsize=fontsize)\n",
    "plt.setp(ax1.get_xticklabels(), visible=True)\n",
    "#plt.xlabel(r\"$t\\;(r_g/c)$\")\n",
    "#plt.ylabel(r\"$\\Phi_\\mathrm{BH}\\;(10^{27}\\;\\mathrm{G}\\;\\mathrm{cm}^{-2})$\", fontsize=latexsize)\n",
    "plt.ylabel(r\"$\\Phi_\\mathrm{BH}\\;(10^{25}\\;\\mathrm{G}\\;\\mathrm{cm}^{-2})$\", fontsize=latexsize)\n",
    "plt.grid(axis='x', alpha=0.5)\n",
    "\n",
    "ax2 = plt.subplot(gs[1,0], sharex=ax1)\n",
    "ax2.plot(ts,md_units*10**10/MSUN*YEAR,color=\"black\")\n",
    "_, max_ = plt.ylim()\n",
    "#plt.xlim(2000,7000)\n",
    "plt.xticks([0, 1000, 2000,3000, 4000, 5000, 6000],fontsize=fontsize)\n",
    "#plt.yticks([0,2,4,6,8],fontsize=fontsize)\n",
    "plt.yticks([0,15,30,45,60],fontsize=fontsize)\n",
    "#plt.xlabel(r\"$t\\;(r_g/c)$\")\n",
    "#plt.ylabel(r\"$\\dot M_\\mathrm{acc}\\;(10^{-7}M_\\odot\\;\\mathrm{yr}^{-1})$\", fontsize=latexsize)\n",
    "plt.ylabel(r\"$\\dot M_\\mathrm{acc}\\;(10^{-10}M_\\odot\\;\\mathrm{yr}^{-1})$\", fontsize=latexsize)\n",
    "plt.setp(ax2.get_xticklabels(), visible=True)\n",
    "plt.grid(axis='x', alpha=0.5)\n",
    "\n",
    "ax3 = plt.subplot(gs[2,0], sharex=ax1)\n",
    "ax3.plot(ts,phiflux,color=\"black\")\n",
    "_, max_ = plt.ylim()\n",
    "plt.xlim(0,6000)\n",
    "plt.xticks([0, 1000, 2000,3000, 4000, 5000, 6000],fontsize=fontsize)\n",
    "#plt.yticks([0,5,10,15,20,25],fontsize=fontsize)\n",
    "#plt.yticks([0,0.3,0.6,0.9,1.2,1.5],fontsize=fontsize)\n",
    "plt.xlabel(r\"$t\\;(r_g/c)$\")\n",
    "plt.ylabel(r\"$\\Phi_\\mathrm{BH}/\\sqrt{\\dot M_\\mathrm{acc}}$\", fontsize=latexsize)\n",
    "plt.grid(axis='x', alpha=0.5)\n",
    "\n",
    "plt.tight_layout()\n",
    "\n",
    "savef = 1\n",
    "if (savef):\n",
    "    plt.savefig(myfigname, dpi=150)"
   ]
  },
  {
   "cell_type": "markdown",
   "metadata": {},
   "source": [
    "### 1.4) Get energy"
   ]
  },
  {
   "cell_type": "markdown",
   "metadata": {},
   "source": [
    "### 1.5) Plot energy"
   ]
  },
  {
   "cell_type": "markdown",
   "metadata": {},
   "source": [
    "Note: get energies by running the script getenergy.py"
   ]
  },
  {
   "cell_type": "code",
   "execution_count": null,
   "metadata": {},
   "outputs": [],
   "source": [
    "time = list(range(225, 941))\n",
    "time = np.array(time)\n",
    "time=10*time\n",
    "myfigname = \"magenergy_MAD52.png\"\n",
    "savef = 0\n",
    "\n",
    "fontsize=13\n",
    "latexsize=18\n",
    "\n",
    "myfilename_d = \"/work/gustavo/gyst/Be105/magenergy_2D_disc.dat\"\n",
    "mylabel_d = \"disc\"\n",
    "mycolor_d = \"blue\"\n",
    "myfilename_o = \"/work/gustavo/gyst/Be105/magenergy_2D_outflows.dat\"\n",
    "mylabel_o = \"jet\"\n",
    "mycolor_o = \"red\"\n",
    "myfilename_j = \"/work/gustavo/gyst/Be105/magenergy_2D_jet.dat\"\n",
    "\n",
    "myfile_d = open(myfilename_d, \"r\")\n",
    "mydata_d = pd.read_csv(myfilename_d, header=None)\n",
    "magenext_d = mydata_d.values\n",
    "magenext_d = np.array(magenext_d)\n",
    "myfile_d.close()\n",
    "\n",
    "myfile_o = open(myfilename_o, \"r\")\n",
    "mydata_o = pd.read_csv(myfilename_o, header=None)\n",
    "magenext_o = mydata_o.values\n",
    "magenext_o = np.array(magenext_o)\n",
    "myfile_o.close()\n",
    "\n",
    "myfile_j = open(myfilename_j, \"r\")\n",
    "mydata_j = pd.read_csv(myfilename_j, header=None)\n",
    "magenext_j = mydata_j.values\n",
    "magenext_j = np.array(magenext_j)\n",
    "myfile_j.close()\n",
    "\n",
    "hfont = {'fontname':'Helvetica'}\n",
    "fig = plt.figure(figsize=[6.4, 9.6])\n",
    "#fig = plt.figure(figsize=[12.8, 14.4])\n",
    "gs = GridSpec(3,1)\n",
    "\n",
    "ax1 = plt.subplot(gs[0,0])\n",
    "ax1.plot(time,magenext_d*B_unit*B_unit*L_unit*L_unit*L_unit, color=mycolor_d, label=mylabel_d)\n",
    "#ax1.plot(time,np.log10(magenext_d*B_unit*B_unit*L_unit*L_unit*L_unit), color=mycolor_d, label=mylabel_d)\n",
    "ax1.set_yscale('log')\n",
    "#_, max_ = plt.ylim()\n",
    "#plt.ylim(0,4)\n",
    "#plt.xlabel(r\"$t\\;(10r_g/c)$\", fontsize=16)\n",
    "plt.ylabel(r\"$\\mathrm{Magnetic\\;energy}\\;(\\mathrm{erg})$\", fontsize=latexsize)\n",
    "#plt.ylabel(r\"$B^2/8\\pi\\;(10^{38}\\;\\mathrm{erg})$\", fontsize=18)\n",
    "plt.xticks([2000,3000,4000,5000,6000,7000,8000,9000,10000],fontsize=fontsize)\n",
    "plt.setp(ax1.get_xticklabels(), visible=True)\n",
    "plt.yticks([10**41,10**43,10**45,10**47,10**49,10**51],fontsize=fontsize)\n",
    "plt.grid(axis='x', alpha=0.5)\n",
    "plt.legend(loc='lower right')\n",
    "\n",
    "ax2 = plt.subplot(gs[1,0], sharex=ax1)\n",
    "ax2.plot(time,magenext_o*B_unit*B_unit*L_unit*L_unit*L_unit, color=mycolor_o, label='outflows')\n",
    "#ax2.plot(time,np.log10(magenext_j*B_unit*B_unit*L_unit*L_unit*L_unit), color=mycolor_j, label=mylabel_j)\n",
    "ax2.set_yscale('log')\n",
    "#_, max_ = plt.ylim()\n",
    "#plt.ylim(0,4)\n",
    "plt.xlim(2000,9650)\n",
    "#plt.xlabel(r\"$t\\;(r_g/c)$\", fontsize=latexsize)\n",
    "plt.ylabel(r\"$\\mathrm{Magnetic\\;energy}\\;(\\mathrm{erg})$\", fontsize=latexsize)\n",
    "#plt.ylabel(r\"$B^2/8\\pi\\;(10^{38}\\;\\mathrm{erg})$\", fontsize=18)\n",
    "plt.xticks([2000,3000,4000,5000,6000,7000,8000,9000,10000],fontsize=fontsize)\n",
    "plt.yticks([10**41,10**43,10**45,10**47,10**49,10**51],fontsize=fontsize)\n",
    "plt.legend(loc='lower right')\n",
    "plt.grid(axis='x', alpha=0.5)\n",
    "plt.tight_layout()\n",
    "\n",
    "ax3 = plt.subplot(gs[2,0], sharex=ax1)\n",
    "ax3.plot(time,magenext_j*B_unit*B_unit*L_unit*L_unit*L_unit, color='green', label=mylabel_j)\n",
    "#ax2.plot(time,np.log10(magenext_j*B_unit*B_unit*L_unit*L_unit*L_unit), color=mycolor_j, label=mylabel_j)\n",
    "ax3.set_yscale('log')\n",
    "#_, max_ = plt.ylim()\n",
    "#plt.ylim(0,4)\n",
    "plt.xlim(2000,9650)\n",
    "plt.xlabel(r\"$t\\;(r_g/c)$\", fontsize=latexsize)\n",
    "plt.ylabel(r\"$\\mathrm{Magnetic\\;energy}\\;(\\mathrm{erg})$\", fontsize=latexsize)\n",
    "#plt.ylabel(r\"$B^2/8\\pi\\;(10^{38}\\;\\mathrm{erg})$\", fontsize=18)\n",
    "plt.xticks([2000,3000,4000,5000,6000,7000,8000,9000,10000],fontsize=fontsize)\n",
    "plt.yticks([10**41,10**43,10**45,10**47,10**49,10**51],fontsize=fontsize)\n",
    "plt.legend(loc='lower right')\n",
    "plt.grid(axis='x', alpha=0.5)\n",
    "plt.tight_layout()\n",
    "\n",
    "savef=0\n",
    "if (savef):\n",
    "    plt.savefig(myfigname, dpi=150)"
   ]
  },
  {
   "cell_type": "markdown",
   "metadata": {},
   "source": [
    "#### 1.5.1) Print mean and maximum energies"
   ]
  },
  {
   "cell_type": "code",
   "execution_count": null,
   "metadata": {},
   "outputs": [],
   "source": [
    "print(\"mean energy, disc = \"+str(np.mean(magenext_d*B_unit*B_unit*L_unit*L_unit*L_unit)))\n",
    "print(\"mean energy, outflows = \"+str(np.mean(magenext_o*B_unit*B_unit*L_unit*L_unit*L_unit)))\n",
    "print(\"mean energy, jet = \"+str(np.mean(magenext_j*B_unit*B_unit*L_unit*L_unit*L_unit)))\n",
    "print(\"max energy, disc = \"+str(np.max(magenext_d*B_unit*B_unit*L_unit*L_unit*L_unit)))\n",
    "print(\"max energy, outflows = \"+str(np.max(magenext_o*B_unit*B_unit*L_unit*L_unit*L_unit)))\n",
    "print(\"max energy, jet = \"+str(np.max(magenext_j*B_unit*B_unit*L_unit*L_unit*L_unit)))"
   ]
  },
  {
   "cell_type": "markdown",
   "metadata": {},
   "source": [
    "## 2) Compare MAD and SANE fluxes"
   ]
  },
  {
   "cell_type": "markdown",
   "metadata": {},
   "source": [
    "Assuming we already have fluxes from two simulations (i.e. one MAD and one SANE), we can compare them by plotting both on the same figure."
   ]
  },
  {
   "cell_type": "code",
   "execution_count": null,
   "metadata": {},
   "outputs": [],
   "source": [
    "myfilename_MAD = \"/work/gustavo/gyst/Be105_smallMAD/fluxes.dat\"\n",
    "myfile_MAD = open(myfilename_MAD, \"r\")\n",
    "mydata_MAD = pd.read_csv(myfilename_MAD, header=None, sep='\\t')\n",
    "\n",
    "ts_MAD = mydata_MAD[0]\n",
    "fs_MAD = mydata_MAD[1]\n",
    "md_MAD = mydata_MAD[2]\n",
    "\n",
    "fs_MAD = np.array(fs_MAD)\n",
    "fs_MAD_units = fs_MAD*B_unit*L_unit*L_unit\n",
    "md_MAD = np.array(md_MAD)\n",
    "md_MAD_units = md_MAD*M_unit/T_unit\n",
    "phiflux_MAD = fs_MAD/np.sqrt(md_MAD)\n",
    "phiflux_MAD = np.array(phiflux_MAD)\n",
    "\n",
    "myfilename_SANE = \"/work/gustavo/gyst/Be105_smallSANE/fluxes.dat\"\n",
    "myfile_SANE = open(myfilename_SANE, \"r\")\n",
    "mydata_SANE = pd.read_csv(myfilename_SANE, header=None, sep='\\t')\n",
    "\n",
    "ts_SANE = mydata_SANE[0]\n",
    "fs_SANE = mydata_SANE[1]\n",
    "md_SANE = mydata_SANE[2]\n",
    "\n",
    "fs_SANE = np.array(fs_SANE)\n",
    "fs_SANE_units = fs_SANE*B_unit*L_unit*L_unit\n",
    "md_SANE = np.array(md_SANE)\n",
    "md_SANE_units = md_SANE*M_unit/T_unit\n",
    "phiflux_SANE = fs_SANE/np.sqrt(md_SANE)\n",
    "phiflux_SANE = np.array(phiflux_SANE)\n",
    "\n",
    "fontsize=13\n",
    "latexsize=18\n",
    "color_MAD = \"red\"\n",
    "color_SANE = \"blue\"\n",
    "myfigname = \"fluxes_2D.png\"\n",
    "\n",
    "hfont = {'fontname':'Helvetica'}\n",
    "fig = plt.figure(figsize=[6.4, 8.4])\n",
    "#fig = plt.figure(figsize=[12.8, 14.4])\n",
    "gs = GridSpec(3,1)\n",
    "\n",
    "ax1 = plt.subplot(gs[0,0])\n",
    "ax1.plot(ts_MAD,fs_MAD_units*10**-25,color=color_MAD,label=\"MAD\")\n",
    "ax1.plot(ts_SANE,fs_SANE_units*10**-25,color=color_SANE,label=\"SANE\")\n",
    "_, max_ = plt.ylim()\n",
    "#plt.xlim(2000,7000)\n",
    "plt.xticks([0, 1000, 2000,3000, 4000, 5000, 6000],fontsize=fontsize)\n",
    "#plt.yticks([0,0.5,1.0,1.5,2.0],fontsize=fontsize)\n",
    "plt.yticks([0,50,100],fontsize=fontsize)\n",
    "plt.setp(ax1.get_xticklabels(), visible=True)\n",
    "#plt.xlabel(r\"$t\\;(r_g/c)$\")\n",
    "#plt.ylabel(r\"$\\Phi_\\mathrm{BH}\\;(10^{27}\\;\\mathrm{G}\\;\\mathrm{cm}^{-2})$\", fontsize=latexsize)\n",
    "plt.ylabel(r\"$\\Phi_\\mathrm{BH}\\;(10^{25}\\;\\mathrm{G}\\;\\mathrm{cm}^{-2})$\", fontsize=latexsize)\n",
    "plt.legend()\n",
    "plt.grid(axis='x', alpha=0.5)\n",
    "\n",
    "ax2 = plt.subplot(gs[1,0], sharex=ax1)\n",
    "ax2.plot(ts_MAD,md_MAD_units*10**10/MSUN*YEAR,color=color_MAD,label=\"MAD\")\n",
    "ax2.plot(ts_SANE,md_SANE_units*10**10/MSUN*YEAR,color=color_SANE,label=\"SANE\")\n",
    "_, max_ = plt.ylim()\n",
    "#plt.xlim(2000,7000)\n",
    "plt.xticks([0, 1000, 2000,3000, 4000, 5000, 6000],fontsize=fontsize)\n",
    "#plt.yticks([0,2,4,6,8],fontsize=fontsize)\n",
    "plt.yticks([0,100,200],fontsize=fontsize)\n",
    "#plt.xlabel(r\"$t\\;(r_g/c)$\")\n",
    "#plt.ylabel(r\"$\\dot M_\\mathrm{acc}\\;(10^{-7}M_\\odot\\;\\mathrm{yr}^{-1})$\", fontsize=latexsize)\n",
    "plt.ylabel(r\"$\\dot M_\\mathrm{acc}\\;(10^{-10}M_\\odot\\;\\mathrm{yr}^{-1})$\", fontsize=latexsize)\n",
    "plt.setp(ax2.get_xticklabels(), visible=True)\n",
    "plt.legend()\n",
    "plt.grid(axis='x', alpha=0.5)\n",
    "\n",
    "ax3 = plt.subplot(gs[2,0], sharex=ax1)\n",
    "ax3.plot(ts_MAD,phiflux_MAD,color=color_MAD,label=\"MAD\")\n",
    "ax3.plot(ts_SANE,phiflux_SANE,color=color_SANE,label=\"SANE\")\n",
    "_, max_ = plt.ylim()\n",
    "plt.xlim(0,6000)\n",
    "plt.xticks([0, 1000, 2000,3000, 4000, 5000, 6000],fontsize=fontsize)\n",
    "#plt.yticks([0,5,10,15,20,25],fontsize=fontsize)\n",
    "plt.yticks([0,10,20,30],fontsize=fontsize)\n",
    "plt.xlabel(r\"$t\\;(r_g/c)$\")\n",
    "plt.ylabel(r\"$\\Phi_\\mathrm{BH}/\\sqrt{\\dot M_\\mathrm{acc}}$\", fontsize=latexsize)\n",
    "plt.legend()\n",
    "plt.grid(axis='x', alpha=0.5)\n",
    "\n",
    "plt.tight_layout()\n",
    "\n",
    "savef = 1\n",
    "if (savef):\n",
    "    plt.savefig(myfigname, dpi=150)"
   ]
  },
  {
   "cell_type": "code",
   "execution_count": null,
   "metadata": {},
   "outputs": [],
   "source": []
  },
  {
   "cell_type": "code",
   "execution_count": null,
   "metadata": {},
   "outputs": [],
   "source": [
    "time = list(range(0, 601))\n",
    "time = np.array(time)\n",
    "time=10*time\n",
    "myfigname = \"magenergy_sgra.png\"\n",
    "savef = 0\n",
    "\n",
    "fontsize=13\n",
    "latexsize=18\n",
    "\n",
    "mylabel_MAD = \"MAD\"\n",
    "mylabel_SANE = \"SANE\"\n",
    "mycolor_MAD = \"red\"\n",
    "mycolor_SANE = \"blue\"\n",
    "\n",
    "myfilename_d_MAD = \"/work/gustavo/gyst/Be105_smallMAD/magenergy_2D_disc.dat\"\n",
    "myfilename_j_MAD = \"/work/gustavo/gyst/Be105_smallMAD/magenergy_2D_jet.dat\"\n",
    "\n",
    "myfilename_d_SANE = \"/work/gustavo/gyst/Be105_smallSANE/magenergy_2D_disc.dat\"\n",
    "myfilename_j_SANE = \"/work/gustavo/gyst/Be105_smallSANE/magenergy_2D_jet.dat\"\n",
    "\n",
    "myfile_d_MAD = open(myfilename_d_MAD, \"r\")\n",
    "mydata_d_MAD = pd.read_csv(myfilename_d_MAD, header=None)\n",
    "magenext_d_MAD = mydata_d_MAD.values\n",
    "magenext_d_MAD = np.array(magenext_d_MAD)\n",
    "myfile_d_MAD.close()\n",
    "\n",
    "myfile_d_SANE = open(myfilename_d_SANE, \"r\")\n",
    "mydata_d_SANE = pd.read_csv(myfilename_d_SANE, header=None)\n",
    "magenext_d_SANE = mydata_d_SANE.values\n",
    "magenext_d_SANE = np.array(magenext_d_SANE)\n",
    "myfile_d_SANE.close()\n",
    "\n",
    "myfile_j_MAD = open(myfilename_j_MAD, \"r\")\n",
    "mydata_j_MAD = pd.read_csv(myfilename_j_MAD, header=None)\n",
    "magenext_j_MAD = mydata_j_MAD.values\n",
    "magenext_j_MAD = np.array(magenext_j_MAD)\n",
    "myfile_j_MAD.close()\n",
    "\n",
    "myfile_j_SANE = open(myfilename_j_SANE, \"r\")\n",
    "mydata_j_SANE = pd.read_csv(myfilename_j_SANE, header=None)\n",
    "magenext_j_SANE = mydata_j_SANE.values\n",
    "magenext_j_SANE = np.array(magenext_j_SANE)\n",
    "myfile_j_SANE.close()\n",
    "\n",
    "hfont = {'fontname':'Helvetica'}\n",
    "fig = plt.figure(figsize=[6.4, 9.6])\n",
    "#fig = plt.figure(figsize=[12.8, 14.4])\n",
    "gs = GridSpec(2,1)\n",
    "\n",
    "ax1 = plt.subplot(gs[0,0])\n",
    "ax1.title(\"Disc\")\n",
    "ax1.plot(time,magenext_d_MAD*B_unit*B_unit*L_unit*L_unit*L_unit, color=mycolor_MAD, label=mylabel_MAD)\n",
    "ax1.plot(time,magenext_d_SANE*B_unit*B_unit*L_unit*L_unit*L_unit, color=mycolor_SANE, label=mylabel_SANE)\n",
    "#ax1.plot(time,np.log10(magenext_d*B_unit*B_unit*L_unit*L_unit*L_unit), color=mycolor_d, label=mylabel_d)\n",
    "ax1.set_yscale('log')\n",
    "#_, max_ = plt.ylim()\n",
    "plt.ylim(10**33,10**41)\n",
    "#plt.xlabel(r\"$t\\;(10r_g/c)$\", fontsize=16)\n",
    "plt.ylabel(r\"$\\mathrm{Magnetic\\;energy}\\;(\\mathrm{erg})$\", fontsize=latexsize)\n",
    "#plt.ylabel(r\"$B^2/8\\pi\\;(10^{38}\\;\\mathrm{erg})$\", fontsize=18)\n",
    "plt.xticks([0,1000,2000,3000,4000,5000,6000],fontsize=fontsize)\n",
    "plt.setp(ax1.get_xticklabels(), visible=True)\n",
    "plt.yticks([10**33,10**35,10**37,10**39,10**41],fontsize=fontsize)\n",
    "plt.grid(axis='x', alpha=0.5)\n",
    "plt.legend(loc='lower right')\n",
    "\n",
    "ax2 = plt.subplot(gs[1,0], sharex=ax1)\n",
    "ax1.title(\"Jet\")\n",
    "ax2.plot(time,magenext_j_MAD*B_unit*B_unit*L_unit*L_unit*L_unit, color=mycolor_MAD, label=mylabel_MAD)\n",
    "ax2.plot(time,magenext_j_SANE*B_unit*B_unit*L_unit*L_unit*L_unit, color=mycolor_SANE, label=mylabel_SANE)\n",
    "#ax2.plot(time,np.log10(magenext_j*B_unit*B_unit*L_unit*L_unit*L_unit), color=mycolor_j, label=mylabel_j)\n",
    "ax2.set_yscale('log')\n",
    "#_, max_ = plt.ylim()\n",
    "plt.ylim(10**33,10**41)\n",
    "plt.xlim(0,6000)\n",
    "#plt.xlabel(r\"$t\\;(r_g/c)$\", fontsize=latexsize)\n",
    "plt.ylabel(r\"$\\mathrm{Magnetic\\;energy}\\;(\\mathrm{erg})$\", fontsize=latexsize)\n",
    "#plt.ylabel(r\"$B^2/8\\pi\\;(10^{38}\\;\\mathrm{erg})$\", fontsize=18)\n",
    "plt.xticks([0,1000,2000,3000,4000,5000,6000],fontsize=fontsize)\n",
    "plt.yticks([10**33,10**35,10**37,10**39,10**41],fontsize=fontsize)\n",
    "plt.legend(loc='lower right')\n",
    "plt.grid(axis='x', alpha=0.5)\n",
    "plt.tight_layout()\n",
    "\n",
    "savef=0\n",
    "if (savef):\n",
    "    plt.savefig(myfigname, dpi=150)"
   ]
  }
 ],
 "metadata": {
  "kernelspec": {
   "display_name": "Python 3",
   "language": "python",
   "name": "python3"
  },
  "language_info": {
   "codemirror_mode": {
    "name": "ipython",
    "version": 3
   },
   "file_extension": ".py",
   "mimetype": "text/x-python",
   "name": "python",
   "nbconvert_exporter": "python",
   "pygments_lexer": "ipython3",
   "version": "3.8.5"
  }
 },
 "nbformat": 4,
 "nbformat_minor": 4
}
